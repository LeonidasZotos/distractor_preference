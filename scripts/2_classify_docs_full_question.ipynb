{
 "cells": [
  {
   "cell_type": "code",
   "execution_count": 1,
   "id": "d558e46b",
   "metadata": {},
   "outputs": [
    {
     "name": "stderr",
     "output_type": "stream",
     "text": [
      "/home4/p285811/distractor_preference/distractor_preference_env/lib/python3.13/site-packages/tqdm/auto.py:21: TqdmWarning: IProgress not found. Please update jupyter and ipywidgets. See https://ipywidgets.readthedocs.io/en/stable/user_install.html\n",
      "  from .autonotebook import tqdm as notebook_tqdm\n"
     ]
    }
   ],
   "source": [
    "import sys\n",
    "import os\n",
    "from transformers import AutoModelForSeq2SeqLM, AutoTokenizer, AutoModelForCausalLM\n",
    "from sentence_transformers import SentenceTransformer\n",
    "from datasets import load_dataset\n",
    "import torch\n",
    "from tqdm import tqdm\n",
    "import numpy as np\n",
    "\n",
    "os.environ['HF_HOME'] = '/scratch/' + str(open('../tokens/HPC_ACCOUNT_ID.txt', 'r').read())\n",
    "cache_dir = '/scratch/' + str(open('../tokens/HPC_ACCOUNT_ID.txt', 'r').read()) + '/cache'"
   ]
  },
  {
   "cell_type": "code",
   "execution_count": 2,
   "id": "e4b2f25b",
   "metadata": {},
   "outputs": [],
   "source": [
    "DATASET = \"LeoZotos/immu_full\""
   ]
  },
  {
   "cell_type": "code",
   "execution_count": 3,
   "id": "a5aa9a27",
   "metadata": {},
   "outputs": [],
   "source": [
    "hf_api_key = \"\"\n",
    "with open(\"../tokens/HF_TOKEN.txt\", \"r\") as f:\n",
    "    hf_api_key = f.read().strip()\n",
    "device = torch.device('cuda' if torch.cuda.is_available() else 'cpu')"
   ]
  },
  {
   "cell_type": "code",
   "execution_count": 4,
   "id": "798bb379",
   "metadata": {},
   "outputs": [],
   "source": [
    "sentence_bert_model = SentenceTransformer('sentence-transformers/all-MiniLM-L6-v2')"
   ]
  },
  {
   "cell_type": "code",
   "execution_count": 5,
   "id": "ebbcd508",
   "metadata": {},
   "outputs": [
    {
     "name": "stderr",
     "output_type": "stream",
     "text": [
      "Generating train split: 100%|██████████| 843/843 [00:00<00:00, 4953.44 examples/s]\n"
     ]
    }
   ],
   "source": [
    "data = load_dataset(DATASET, split='train', token=hf_api_key, cache_dir=cache_dir)"
   ]
  },
  {
   "cell_type": "code",
   "execution_count": 6,
   "id": "7b6aaf45",
   "metadata": {},
   "outputs": [],
   "source": [
    "def print_similarities(similarities, sentences1, sentences2):\n",
    "    for idx_i, sentence1 in enumerate(sentences1):\n",
    "        print(sentence1)\n",
    "        for idx_j, sentence2 in enumerate(sentences2):\n",
    "            print(f\" - {sentence2: <30}: {similarities[idx_i][idx_j]:.4f}\")\n",
    "\n",
    "\n",
    "def classify_docs_per_distractor(row, sentence_bert_model):\n",
    "    docs_per_choice = {}\n",
    "    for key in ['Answer_A', 'Answer_B', 'Answer_C', 'Answer_D']:\n",
    "        if row[key] != \"\":\n",
    "                docs_per_choice[key + '_docs'] = []\n",
    "    choices_keys = [key[:-5] for key in docs_per_choice.keys()]\n",
    "    choices_content = [row[key] for key in choices_keys if row[key] != \"\"]\n",
    "    embeddings_choices = sentence_bert_model.encode(choices_content)\n",
    "    embeddings_docs = sentence_bert_model.encode(row['Relevant_Docs_Simple'])\n",
    "    similarities = sentence_bert_model.similarity(embeddings_choices, embeddings_docs)\n",
    "\n",
    "    # might be useful for debugging\n",
    "    # print_similarities(similarities, choices_content, row['relevant_docs_simple']) \n",
    "    \n",
    "    # We now add each doc to the choice with the highest similarity\n",
    "    for i, doc in enumerate(row['Relevant_Docs_Simple']):\n",
    "        max_sim_index = np.argmax(similarities[:, i])\n",
    "        max_choice = list(docs_per_choice.keys())[max_sim_index]\n",
    "        docs_per_choice[max_choice].append(doc)\n",
    "    \n",
    "    return docs_per_choice\n"
   ]
  },
  {
   "cell_type": "code",
   "execution_count": 7,
   "id": "b75f44ce",
   "metadata": {},
   "outputs": [
    {
     "name": "stderr",
     "output_type": "stream",
     "text": [
      "  0%|          | 0/843 [00:00<?, ?it/s]"
     ]
    },
    {
     "name": "stderr",
     "output_type": "stream",
     "text": [
      "100%|██████████| 843/843 [00:12<00:00, 67.03it/s]\n"
     ]
    }
   ],
   "source": [
    "column_names = [f\"Answer_{choice}_docs\" for choice in ['A', 'B', 'C', 'D']]\n",
    "docs_by_choice = {name: [] for name in column_names}\n",
    "\n",
    "for row in tqdm(data):\n",
    "    docs_per_choice_for_row = classify_docs_per_distractor(row, sentence_bert_model)\n",
    "    for name in column_names:\n",
    "        docs_by_choice[name].append(docs_per_choice_for_row.get(name, []))\n",
    "        \n",
    "if column_names[0] in data.column_names:\n",
    "    data = data.remove_columns(column_names)\n",
    "    \n",
    "for name, column_data in docs_by_choice.items():\n",
    "    data = data.add_column(name, column_data)\n",
    "\n",
    "\n",
    "# # -----\n",
    "# Answer_A_docs, Answer_B_docs, Answer_C_docs, Answer_D_docs = [], [], [], [] # each will be a column\n",
    "\n",
    "# for row in tqdm(data):\n",
    "#     docs_per_choice_for_row = classify_docs_per_distractor(row, sentence_bert_model)\n",
    "#     Answer_A_docs.append(docs_per_choice_for_row.get('Answer_A_docs', []))\n",
    "#     Answer_B_docs.append(docs_per_choice_for_row.get('Answer_B_docs', []))\n",
    "#     Answer_C_docs.append(docs_per_choice_for_row.get('Answer_C_docs', []))\n",
    "#     Answer_D_docs.append(docs_per_choice_for_row.get('Answer_D_docs', []))\n",
    "\n",
    "# # check if columns exist, if they do, delete first\n",
    "# if 'Answer_A_docs' in data.column_names:\n",
    "#     data = data.remove_columns(['Answer_A_docs', 'Answer_B_docs', 'Answer_C_docs', 'Answer_D_docs'])\n",
    "# data = data.add_column(\"Answer_A_docs\", Answer_A_docs)\n",
    "# data = data.add_column(\"Answer_B_docs\", Answer_B_docs)\n",
    "# data = data.add_column(\"Answer_C_docs\", Answer_C_docs)\n",
    "# data = data.add_column(\"Answer_D_docs\", Answer_D_docs)"
   ]
  },
  {
   "cell_type": "code",
   "execution_count": 8,
   "id": "4c30d5a4",
   "metadata": {},
   "outputs": [
    {
     "name": "stdout",
     "output_type": "stream",
     "text": [
      "M cells are crucial for the initiation of mucosal immunity. Where can these M cells be found?\n",
      "A) In Peyer's patches\n",
      "B) In GALT and in between intestinal epithelial cells\n",
      "C) In parts of the entire ileum that have contact with mesenteric lymph nodes\n",
      "D) In lymph nodes\n",
      " : \n",
      " A: [] \n",
      " B: ['Mucus A layer of mucus along the inner walls of the stomach is vital to protect the cell linings from the highly acidic environment inside the stomach.  Mucus is not digested in the intestinal tract.', 'Duodenal cancer The duodenum is the first part of the small intestine. It is located between the stomach and the jejunum. After foods combine with stomach acid, they go down into the duodenum where they mix with bile from the gall bladder and digestive juices from the pancreas.', 'Mucous membrane A mucous membrane (or mucosae; singular mucosa) is a skin-like lining. A mucus membrane is covered in epithelium. They secrete mucus, and in the alimentary canal they absorb nutrients. They line cavities that are exposed to the external environment and internal organs.', 'Lipopolysaccharide They occur in the outer membrane of Gram-negative bacteria, and  act as triggers for the innate immune system. Their presence is sensed by toll-like receptors on dendritic cells. This causes a strong immune response in animals.', 'Duodenum The duodenum is a short section of the small intestine, and is where most digestion in the small intestine takes place. It receives secretions, including bile and juice, from the pancreas and the liver through the pancreatic and common bile ducts. These secretions limit, or neutralise, the stomach acidity. Also, enzymes help to digest the food.', 'Mucus Mucus protects epithelial cells in the lungs, gut, genital, visual, and auditory systems in mammals; the epidermis in amphibians; and the gills in fish. Snails, slugs, hagfish, and certain invertebrates also produce external mucus. As well as a protective function, slime helps movement and plays a role in communication.', 'Small intestine The small intestine is between the stomach and the large intestine, and is where most of the digestion and absorption happen. In humans over five years old, the small intestine is about 7.5 meters long.', 'Bacteroidetes The gastrointestinal tract in humans is made up of the mouth, pharynx, esophagus, stomach, small intestine, large intestine and anus. This is the path that food enters the body and waste matter leaves the body. The majority of microbes in the human body live in this gastrointestinal tract . Bacteroidetes can be found in all of the different parts of the gastrointestinal tract, even though the conditions in each part can be very different from each other.'] \n",
      " C: ['Innate immune system Dendritic cells (DC) are phagocytic cells present in tissues that are in contact with the external environment, mainly the skin (where they are often called Langerhans cells), and the inner mucosal lining of the nose, lungs, stomach and intestines. Dendritic cells are very important in the process of antigen presentation, and serve as a link between the innate and adaptive immune systems.', 'Innate immune system The skin continues internally as the lining of the intestine and lung. In the intestines or lungs, movement by peristalsis or cilia helps to remove infectious agents. Also, mucus traps infectious agents. In the intestines, gut flora can prevent pathogenic bacteria by secreting toxic substances, or by competing with pathogenic bacteria for nutrients or for attachment to cell surfaces.', 'Innate immune system Mast cells are a type of innate immune cell in connective tissue and the mucous membranes. They are intimately associated with defence against pathogens and wound healing. They are also often associated with allergy and anaphylaxis. When activated, mast cells rapidly release characteristic granules, rich in histamine and heparin, along with various hormonal mediators, and chemotactic cytokines into the environment. Histamine dilates blood vessels, causing the signs of inflammation, and recruits neutrophils and macrophages.', 'Jejunum The jejunum is a section of the small intestine between the duodenum and the ileum. It is between 1 and 2 meters long.The term \"jejunum\" derives from the Latin \"jejunus,\" which means \"empty of food,\" \"meager,\" or \"hungry.\" The ancient Greeks noticed at death that this part of the intestine was always empty of food. Hence, the name the jejunum.'] \n",
      " D: ['Dendritic cell Dendritic cells are present in tissues in contact with the external environment. These tissues are the skin, and the inner lining of the nose, lungs, stomach and intestines. They can also be found in an immature and mature state in the blood.', 'Dendritic cell They eat pathogens and break down their proteins into small pieces and put these fragments on their cell surface using MHC molecules. Once activated, these cells move to the lymph nodes and become mature. They switch on cell-surface receptors which activate T cells and B cells to start and shape the adaptive immune response.', 'Lymphocyte B cells mature into B lymphocytes in the bone marrow, while T cells migrate to and mature in a distinct organ, called the thymus. After they mature, the lymphocytes enter the circulation and lymphoid organs (e.g. the spleen and lymph nodes) where they are able to sense invading pathogens and tumour cells.', 'Lysozyme A lysozyme is a part of the innate immune system. They are enzymes which are in mucus secretions like saliva. They protect against infection by chopping up the bacteria, viruses and fungi which infect animals.', 'Innate immune system The innate leukocytes include: Natural killer cells, mast cells, eosinophils, basophils; and the phagocytic cells including macrophages, neutrophils and dendritic cells. They identify and eliminate pathogens that cause infection.', 'Lymphocyte large granular lymphocytes: these are part of the innate immune system, and are natural killer cells.', 'Lymph node A Lymph node () is an organ consisting of many types of cells, and is a part of the lymphatic system. Lymph nodes are found all through the body, and remove foreign (not of the body) objects from the body. Lymph nodes contain white blood cells. They are important for the correct use of the immune system.', \"Innate immune system The word 'phagocyte' literally means 'eating cell'. These are immune cells that engulf, i.e. phagocytose, pathogens or particles.  To engulf a particle or pathogen, a phagocyte extends portions of its plasma membrane, wrapping the membrane around the particle until it is enveloped (i.e. the particle is now inside the cell). Once inside the cell, the invading pathogen is contained inside an endosome which merges with a lysosome. The lysosome contains enzymes and acids that kill and digest the particle or organism.  Phagocytes generally patrol the body searching for pathogens, but are also able to react to a group of highly specialized molecular signals produced by other cells, called cytokines.  The phagocytic cells of the immune system include macrophages], neutrophils, and dendritic cells.\"]\n"
     ]
    }
   ],
   "source": [
    "# Inspect an instance manually to see if it makes sense\n",
    "id = 22\n",
    "print(data[id]['Question_With_Options'], \":\", \"\\n A:\", data[id]['Answer_A_Docs'], \"\\n B:\", data[id]['Answer_B_Docs'], \"\\n C:\", data[id]['Answer_C_Docs'], \"\\n D:\", data[id]['Answer_D_Docs'])"
   ]
  },
  {
   "cell_type": "code",
   "execution_count": 9,
   "id": "ac400635",
   "metadata": {},
   "outputs": [
    {
     "name": "stderr",
     "output_type": "stream",
     "text": [
      "Uploading the dataset shards:   0%|          | 0/1 [00:00<?, ?it/s]"
     ]
    },
    {
     "name": "stderr",
     "output_type": "stream",
     "text": [
      "Creating parquet from Arrow format: 100%|██████████| 1/1 [00:00<00:00, 21.84ba/s]\n",
      "Uploading the dataset shards: 100%|██████████| 1/1 [00:01<00:00,  1.41s/it]\n"
     ]
    },
    {
     "data": {
      "text/plain": [
       "CommitInfo(commit_url='https://huggingface.co/datasets/LeoZotos/immu_full/commit/4df6f3bc9370a4bcd4f36bd651772142ed0aeabb', commit_message='Classified docs per choice', commit_description='', oid='4df6f3bc9370a4bcd4f36bd651772142ed0aeabb', pr_url=None, repo_url=RepoUrl('https://huggingface.co/datasets/LeoZotos/immu_full', endpoint='https://huggingface.co', repo_type='dataset', repo_id='LeoZotos/immu_full'), pr_revision=None, pr_num=None)"
      ]
     },
     "execution_count": 9,
     "metadata": {},
     "output_type": "execute_result"
    }
   ],
   "source": [
    "# upload to hf\n",
    "data.push_to_hub(\n",
    "    repo_id=DATASET,\n",
    "    commit_message=\"Classified docs per choice\",\n",
    "    token=hf_api_key,\n",
    "    private=True\n",
    ")"
   ]
  }
 ],
 "metadata": {
  "kernelspec": {
   "display_name": "distractor_preference_env",
   "language": "python",
   "name": "python3"
  },
  "language_info": {
   "codemirror_mode": {
    "name": "ipython",
    "version": 3
   },
   "file_extension": ".py",
   "mimetype": "text/x-python",
   "name": "python",
   "nbconvert_exporter": "python",
   "pygments_lexer": "ipython3",
   "version": "3.13.1"
  }
 },
 "nbformat": 4,
 "nbformat_minor": 5
}
