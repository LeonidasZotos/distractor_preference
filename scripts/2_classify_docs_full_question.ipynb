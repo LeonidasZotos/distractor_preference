{
 "cells": [
  {
   "cell_type": "code",
   "execution_count": 12,
   "id": "d558e46b",
   "metadata": {},
   "outputs": [],
   "source": [
    "import sys\n",
    "import os\n",
    "from transformers import AutoModelForSeq2SeqLM, AutoTokenizer, AutoModelForCausalLM\n",
    "from sentence_transformers import SentenceTransformer\n",
    "from datasets import load_dataset\n",
    "import torch\n",
    "from tqdm import tqdm\n",
    "import numpy as np\n",
    "\n",
    "os.environ['HF_HOME'] = '/scratch/' + str(open('../tokens/HPC_ACCOUNT_ID.txt', 'r').read())\n",
    "cache_dir = '/scratch/' + str(open('../tokens/HPC_ACCOUNT_ID.txt', 'r').read()) + '/cache'"
   ]
  },
  {
   "cell_type": "code",
   "execution_count": 13,
   "id": "a5aa9a27",
   "metadata": {},
   "outputs": [],
   "source": [
    "hf_api_key = \"\"\n",
    "with open(\"../tokens/HF_TOKEN.txt\", \"r\") as f:\n",
    "    hf_api_key = f.read().strip()\n",
    "device = torch.device('cuda' if torch.cuda.is_available() else 'cpu')"
   ]
  },
  {
   "cell_type": "code",
   "execution_count": 14,
   "id": "7b6aaf45",
   "metadata": {},
   "outputs": [],
   "source": [
    "def classify_docs_per_distractor(row, sentence_bert_model):\n",
    "    docs_per_choice = {}\n",
    "    for key in ['Answer_A', 'Answer_B', 'Answer_C', 'Answer_D']:\n",
    "        if row[key] != \"\":\n",
    "                docs_per_choice[key + '_docs'] = []\n",
    "                \n",
    "    embeddings_choices = sentence_bert_model.encode([key for key in docs_per_choice.keys() if key.endswith('_docs')])\n",
    "    embeddings_docs = sentence_bert_model.encode(row['relevant_docs_simple'])\n",
    "    similarities = sentence_bert_model.similarity(embeddings_choices, embeddings_docs)\n",
    "    \n",
    "    # We now add each doc to the choice with the highest similarity\n",
    "    for i, doc in enumerate(row['relevant_docs_simple']):\n",
    "        max_sim_index = np.argmax(similarities[:, i])\n",
    "        max_choice = list(docs_per_choice.keys())[max_sim_index]\n",
    "        docs_per_choice[max_choice].append(doc)\n",
    "    \n",
    "    return docs_per_choice\n"
   ]
  },
  {
   "cell_type": "code",
   "execution_count": 15,
   "id": "798bb379",
   "metadata": {},
   "outputs": [],
   "source": [
    "sentence_bert_model = SentenceTransformer('sentence-transformers/all-MiniLM-L6-v2')\n",
    "data = load_dataset(\"LeoZotos/immu_full\", split='train', token = hf_api_key, cache_dir=cache_dir)"
   ]
  },
  {
   "cell_type": "code",
   "execution_count": null,
   "id": "b75f44ce",
   "metadata": {},
   "outputs": [
    {
     "name": "stderr",
     "output_type": "stream",
     "text": [
      "100%|██████████| 843/843 [00:13<00:00, 64.61it/s]\n"
     ]
    },
    {
     "name": "stdout",
     "output_type": "stream",
     "text": [
      "What has the LEAST effect on the value of R0 of SARS-CoV-2?\n",
      "A) Outdoor temperature\n",
      "B) Virulence of the virus\n",
      "C) Herd immunity of the population\n",
      "D) Physical distancing within the population\n",
      " : A: ['Volcanic winter The effects of recent volcanic eruptions on winters are modest in scale but historically their effects have been significant.', 'Field (mathematics) There exists an element 0 in R, such that for all elements a in R, the equation 0 + a = a + 0 = a holds.'] B: ['Basic reproduction number A very important number for describing whether a disease can become an epidemic or not is R0, pronounced \"R naught\" or \"R zero\". It refers to how many people a person who has this disease is expected to infect on average if there are no people immune to the disease. It is an abbreviation for basic reproduction number.', 'Basic reproduction number If R0 > 1, a disease can become an epidemic. If R0 < 1, it cannot. Most commonly known diseases have R0 > 1. However, vaccines can be used to make enough people immune in a population to stop epidemics from happening. We can also use other measures to make the effective reproduction rate (Re, usually written Rt with t for time) lower than the basic reproduction rate (R0).', 'Social distancing All of these may have negative effects on people. However, these may be preferred to the effects of a specific disease.', 'Variants of SARS-CoV-2 There is a risk that COVID-19 could transfer from humans to other animal populations and could combine with other animal viruses to create (more) variants that are dangerous to humans. Reverse zoonosis can possibly happen.', 'Thermodynamics When a system has a temperature of 0 kelvin, absolute zero (the lowest temperature), the entropy (energy that cannot be used to do work) is at 0.', \"Rank correlation The maximum value for the correlation is r = 1, which means that 100% of the pairs favor the hypothesis.  A correlation of r = 0 indicates that half the pairs favor the hypothesis and half do not.  An effect size of r = 0 describes no relationship between group membership and the members' ranks.\", 'COVID-19 pandemic in Jamaica Unlike SARS outbreak of 2003, the case fatality ratio for COVID-19  has been much lower, but the transmission has been greater, with a significant total death toll.'] C: ['COVID-19 testing Viral burden (the amount of virus) measured in the respiratory tract declines after the start of illness.', 'Variants of SARS-CoV-2 Severe acute respiratory syndrome coronavirus 2 (SARS-CoV-2), the virus that causes coronavirus disease 2019 (COVID-19), has a lot of variants. Some of them are important because of increased transmission and vaccines being less effective on them. This article discusses relevant variants of SARS-CoV-2 and mutations in these variants.', 'Chinese virus Severe acute respiratory syndrome coronavirus 2 (SARS-CoV-2), a positive-sense single-stranded RNA virus that is contagious in humans', 'COVID-19 pandemic in Costa Rica By 30 April, the country had the lowest case fatality rate in the Americas, at about 0.86%. More Costa Ricans have died in the United States than in Costa Rica.', 'COVID-19 pandemic in Australia On 19 March, the Reserve Bank again cut interest rates again to 0.25%, the lowest in Australian history.', 'COVID-19 pandemic in India The infection rate of COVID-19 in India was reported to be 1.7, which was lower than in the worst affected countries.', 'Rankine scale The Kelvin and Rankine temperature scales are defined so that absolute zero is 0 kelvins (K) or 0 degrees Rankine (°R). The Celsius and Fahrenheit scales are defined so that absolute zero is −273.15\\xa0°C or −459.67\\xa0°F.', 'Rounding Some meteorologists may write \"-0\" to indicate a temperature between 0.0 and -0.5 degrees (exclusive) that was rounded to integer. This notation is used when the negative sign is considered important, no matter how small is the magnitude; for example, when rounding temperatures in the Celsius scale, where below zero indicates freezing.', 'Coronavirus Coronaviruses are believed to cause many common colds in human adults. The significance and economic impact of coronaviruses is hard to assess. Unlike rhinoviruses (another common cold virus), human coronaviruses are easy to grow in the laboratory.', 'Absolute zero The kelvin and Rankine temperature scales are defined so that absolute zero is 0 kelvin (K) or 0 degrees Rankine (°R). The Celsius and Fahrenheit scales are defined so that absolute zero is −273.15\\xa0°C or −459.67\\xa0°F.'] D: ['COVID-19 pandemic in Thailand Unlike SARS of 2003, the case fatality ratio for COVID-19  has been much lower, but the transmission has been significantly greater, with a significant total death toll.']\n"
     ]
    },
    {
     "name": "stderr",
     "output_type": "stream",
     "text": [
      "Creating CSV from Arrow format: 100%|██████████| 1/1 [00:00<00:00,  1.96ba/s]\n"
     ]
    },
    {
     "data": {
      "text/plain": [
       "10136690"
      ]
     },
     "execution_count": 16,
     "metadata": {},
     "output_type": "execute_result"
    }
   ],
   "source": [
    "Answer_A_docs, Answer_B_docs, Answer_C_docs, Answer_D_docs = [], [], [], [] # each will be a column\n",
    "\n",
    "for row in tqdm(data):\n",
    "    docs_per_choice_for_row = classify_docs_per_distractor(row, sentence_bert_model)\n",
    "    Answer_A_docs.append(docs_per_choice_for_row.get('Answer_A_docs', []))\n",
    "    Answer_B_docs.append(docs_per_choice_for_row.get('Answer_B_docs', []))\n",
    "    Answer_C_docs.append(docs_per_choice_for_row.get('Answer_C_docs', []))\n",
    "    Answer_D_docs.append(docs_per_choice_for_row.get('Answer_D_docs', []))\n",
    "    \n",
    "data = data.add_column(\"Answer_A_docs\", Answer_A_docs)\n",
    "data = data.add_column(\"Answer_B_docs\", Answer_B_docs)\n",
    "data = data.add_column(\"Answer_C_docs\", Answer_C_docs)\n",
    "data = data.add_column(\"Answer_D_docs\", Answer_D_docs)\n",
    "# print 1st row of data, column 'Qu'\n",
    "id = 14\n",
    "print(data[0]['Question_with_options'], \":\", \"A:\", data[id]['Answer_A_docs'], \"B:\", data[id]['Answer_B_docs'], \"C:\", data[id]['Answer_C_docs'], \"D:\", data[id]['Answer_D_docs'])\n",
    "# export to csv in ../data/immu/all_full_docs.csv\n",
    "# data.to_csv('../data/immu/all_full_docs.csv', index=False)\n"
   ]
  },
  {
   "cell_type": "code",
   "execution_count": 24,
   "id": "4c30d5a4",
   "metadata": {},
   "outputs": [
    {
     "name": "stdout",
     "output_type": "stream",
     "text": [
      "M cells are crucial for the initiation of mucosal immunity. Where can these M cells be found?\n",
      "A) In Peyer's patches\n",
      "B) In GALT and in between intestinal epithelial cells\n",
      "C) In parts of the entire ileum that have contact with mesenteric lymph nodes\n",
      "D) In lymph nodes\n",
      " : \n",
      " A: ['Mucous membrane A mucous membrane (or mucosae; singular mucosa) is a skin-like lining. A mucus membrane is covered in epithelium. They secrete mucus, and in the alimentary canal they absorb nutrients. They line cavities that are exposed to the external environment and internal organs.', 'Thymus In the thymus, T cells or T lymphocytes mature. T cells are critical to the adaptive immune system, where the body adapts specifically to foreign invaders.', 'Immune system Vertebrates, including humans, have much more sophisticated defense mechanisms.  The innate immune system is found in all metazoa, but the adaptive immune system is only found in vertebrates.'] \n",
      " B: ['Goblet cell Goblet cells are specialized cells found in the body that secrete mucus and create a protective mucus layer.', 'Dendritic cell They eat pathogens and break down their proteins into small pieces and put these fragments on their cell surface using MHC molecules. Once activated, these cells move to the lymph nodes and become mature. They switch on cell-surface receptors which activate T cells and B cells to start and shape the adaptive immune response.', 'Duodenal cancer The duodenum is the first part of the small intestine. It is located between the stomach and the jejunum. After foods combine with stomach acid, they go down into the duodenum where they mix with bile from the gall bladder and digestive juices from the pancreas.', 'Mucus Mucus protects epithelial cells in the lungs, gut, genital, visual, and auditory systems in mammals; the epidermis in amphibians; and the gills in fish. Snails, slugs, hagfish, and certain invertebrates also produce external mucus. As well as a protective function, slime helps movement and plays a role in communication.', 'Innate immune system Mast cells are a type of innate immune cell in connective tissue and the mucous membranes. They are intimately associated with defence against pathogens and wound healing. They are also often associated with allergy and anaphylaxis. When activated, mast cells rapidly release characteristic granules, rich in histamine and heparin, along with various hormonal mediators, and chemotactic cytokines into the environment. Histamine dilates blood vessels, causing the signs of inflammation, and recruits neutrophils and macrophages.', 'Lymphocyte B cells mature into B lymphocytes in the bone marrow, while T cells migrate to and mature in a distinct organ, called the thymus. After they mature, the lymphocytes enter the circulation and lymphoid organs (e.g. the spleen and lymph nodes) where they are able to sense invading pathogens and tumour cells.', 'Lysozyme A lysozyme is a part of the innate immune system. They are enzymes which are in mucus secretions like saliva. They protect against infection by chopping up the bacteria, viruses and fungi which infect animals.'] \n",
      " C: ['Mucus A layer of mucus along the inner walls of the stomach is vital to protect the cell linings from the highly acidic environment inside the stomach.  Mucus is not digested in the intestinal tract.', 'Innate immune system The skin continues internally as the lining of the intestine and lung. In the intestines or lungs, movement by peristalsis or cilia helps to remove infectious agents. Also, mucus traps infectious agents. In the intestines, gut flora can prevent pathogenic bacteria by secreting toxic substances, or by competing with pathogenic bacteria for nutrients or for attachment to cell surfaces.', 'Toll-like receptor Toll-like receptors have also been shown to be an important link between innate and adaptive immunity through their presence in dendritic cells.', 'Innate immune system The innate leukocytes include: Natural killer cells, mast cells, eosinophils, basophils; and the phagocytic cells including macrophages, neutrophils and dendritic cells. They identify and eliminate pathogens that cause infection.', 'Lymphocyte large granular lymphocytes: these are part of the innate immune system, and are natural killer cells.', 'Mucus In vertebrates mucus is made by mucous membranes. Mucus may have antiseptic enzymes (such as lysozymes) and immunoglobulins (antigens). A major function of this mucus is to protect against infection by fungi, bacteria and viruses.', 'Lipopolysaccharide They occur in the outer membrane of Gram-negative bacteria, and  act as triggers for the innate immune system. Their presence is sensed by toll-like receptors on dendritic cells. This causes a strong immune response in animals.', 'Humoral immunity The humoral immune system contrasts with the cell-mediated immunity. That  involves the activation of phagocytes, antigen-specific cytotoxic T-lymphocytes, and the release of various cytokines in response to an antigen.'] \n",
      " D: ['Innate immune system Dendritic cells (DC) are phagocytic cells present in tissues that are in contact with the external environment, mainly the skin (where they are often called Langerhans cells), and the inner mucosal lining of the nose, lungs, stomach and intestines. Dendritic cells are very important in the process of antigen presentation, and serve as a link between the innate and adaptive immune systems.', 'Dendritic cell Dendritic cells are present in tissues in contact with the external environment. These tissues are the skin, and the inner lining of the nose, lungs, stomach and intestines. They can also be found in an immature and mature state in the blood.']\n"
     ]
    }
   ],
   "source": [
    "id = 22\n",
    "print(data[id]['Question_with_options'], \":\", \"\\n A:\", data[id]['Answer_A_docs'], \"\\n B:\", data[id]['Answer_B_docs'], \"\\n C:\", data[id]['Answer_C_docs'], \"\\n D:\", data[id]['Answer_D_docs'])"
   ]
  }
 ],
 "metadata": {
  "kernelspec": {
   "display_name": "distractor_preference_env",
   "language": "python",
   "name": "python3"
  },
  "language_info": {
   "codemirror_mode": {
    "name": "ipython",
    "version": 3
   },
   "file_extension": ".py",
   "mimetype": "text/x-python",
   "name": "python",
   "nbconvert_exporter": "python",
   "pygments_lexer": "ipython3",
   "version": "3.13.1"
  }
 },
 "nbformat": 4,
 "nbformat_minor": 5
}
