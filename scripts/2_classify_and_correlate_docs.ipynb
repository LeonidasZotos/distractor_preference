{
 "cells": [
  {
   "cell_type": "code",
   "execution_count": 10,
   "id": "d558e46b",
   "metadata": {},
   "outputs": [],
   "source": [
    "import os\n",
    "from sentence_transformers import SentenceTransformer\n",
    "from datasets import load_dataset\n",
    "import torch\n",
    "from tqdm import tqdm\n",
    "import numpy as np\n",
    "from scipy.stats import pearsonr, spearmanr\n",
    "\n",
    "os.environ['HF_HOME'] = '/scratch/' + str(open('../tokens/HPC_ACCOUNT_ID.txt', 'r').read())\n",
    "cache_dir = '/scratch/' + str(open('../tokens/HPC_ACCOUNT_ID.txt', 'r').read()) + '/cache'"
   ]
  },
  {
   "cell_type": "code",
   "execution_count": 11,
   "id": "e4b2f25b",
   "metadata": {},
   "outputs": [],
   "source": [
    "DATASET = \"LeoZotos/bio_full\"\n",
    "WIKI = \"En\" # 'En' or 'Simple'\n",
    "SOURCE_TEXT = \"\"  # '_Only_Options' or '' for full text\n",
    "NUM_DOCS_RETRIEVED = 60 # 20 or 60\n",
    "\n",
    "RETRIEVED_DOCS_COL_NAME = 'Relevant_Docs_' + WIKI + SOURCE_TEXT + '_' + str(NUM_DOCS_RETRIEVED)"
   ]
  },
  {
   "cell_type": "code",
   "execution_count": 12,
   "id": "a5aa9a27",
   "metadata": {},
   "outputs": [],
   "source": [
    "hf_api_key = \"\"\n",
    "with open(\"../tokens/HF_TOKEN.txt\", \"r\") as f:\n",
    "    hf_api_key = f.read().strip()\n",
    "device = torch.device('cuda' if torch.cuda.is_available() else 'cpu')"
   ]
  },
  {
   "cell_type": "code",
   "execution_count": 13,
   "id": "798bb379",
   "metadata": {},
   "outputs": [],
   "source": [
    "sentence_bert_model = SentenceTransformer('sentence-transformers/all-MiniLM-L6-v2')"
   ]
  },
  {
   "cell_type": "code",
   "execution_count": 14,
   "id": "ebbcd508",
   "metadata": {},
   "outputs": [],
   "source": [
    "data = load_dataset(DATASET, split='train', token=hf_api_key, cache_dir=cache_dir)"
   ]
  },
  {
   "cell_type": "code",
   "execution_count": 15,
   "id": "7b6aaf45",
   "metadata": {},
   "outputs": [],
   "source": [
    "def print_similarities(similarities, sentences1, sentences2):\n",
    "    for idx_i, sentence1 in enumerate(sentences1):\n",
    "        print(sentence1)\n",
    "        for idx_j, sentence2 in enumerate(sentences2):\n",
    "            print(f\" - {sentence2: <30}: {similarities[idx_i][idx_j]:.4f}\")\n",
    "\n",
    "\n",
    "def classify_docs_per_distractor(row, sentence_bert_model):\n",
    "    docs_per_choice = {}\n",
    "    for key in ['Answer_A', 'Answer_B', 'Answer_C', 'Answer_D']:\n",
    "        if row[key] != \"\":\n",
    "                docs_per_choice[key + '_Docs'] = []\n",
    "    choices_keys = [key[:-5] for key in docs_per_choice.keys()]\n",
    "    choices_content = [row[key] for key in choices_keys if row[key] != \"\"]\n",
    "    embeddings_choices = sentence_bert_model.encode(choices_content)\n",
    "    embeddings_docs = sentence_bert_model.encode(row[RETRIEVED_DOCS_COL_NAME])\n",
    "    similarities = sentence_bert_model.similarity(embeddings_choices, embeddings_docs)\n",
    "\n",
    "    # We now add each doc to the choice with the highest similarity\n",
    "    for i, doc in enumerate(row[RETRIEVED_DOCS_COL_NAME]):\n",
    "        max_sim_index = np.argmax(similarities[:, i])\n",
    "        max_choice = list(docs_per_choice.keys())[max_sim_index]\n",
    "        docs_per_choice[max_choice].append(doc)\n",
    "    \n",
    "    return docs_per_choice"
   ]
  },
  {
   "cell_type": "code",
   "execution_count": 16,
   "id": "b75f44ce",
   "metadata": {},
   "outputs": [
    {
     "name": "stderr",
     "output_type": "stream",
     "text": [
      "  0%|          | 0/778 [00:00<?, ?it/s]"
     ]
    },
    {
     "name": "stderr",
     "output_type": "stream",
     "text": [
      "100%|██████████| 778/778 [00:30<00:00, 25.22it/s]\n"
     ]
    }
   ],
   "source": [
    "column_names = [f\"Answer_{choice}_Docs\" for choice in ['A', 'B', 'C', 'D']]\n",
    "docs_by_choice = {name: [] for name in column_names}\n",
    "\n",
    "for row in tqdm(data):\n",
    "    docs_per_choice_for_row = classify_docs_per_distractor(row, sentence_bert_model)\n",
    "    for name in column_names:\n",
    "        docs_by_choice[name].append(docs_per_choice_for_row.get(name, []))\n",
    "        \n",
    "if column_names[0] in data.column_names:\n",
    "    data = data.remove_columns(column_names)\n",
    "    \n",
    "for name, column_data in docs_by_choice.items():\n",
    "    data = data.add_column(name, column_data)"
   ]
  },
  {
   "cell_type": "code",
   "execution_count": 17,
   "id": "4c30d5a4",
   "metadata": {},
   "outputs": [
    {
     "name": "stdout",
     "output_type": "stream",
     "text": [
      "what is one of the contradictions in \"paradoxical\" sleep?\n",
      "a) the brain is very active, while many of the muscles are deeply relaxed\n",
      "b) subcortical structures are very active, while the cerebral cortex is inactive\n",
      "c) the frequency of the brain waves is low, while the amplitude is high\n",
      "d) postural muscles are tense, while heart rate and breathing rate are very low\n",
      " : \n",
      " A: ['Rapid eye movement sleep Generally speaking, the body suspends homeostasis during paradoxical sleep. Heart rate, cardiac pressure, cardiac output, arterial pressure, and breathing rate quickly become irregular when the body moves into REM sleep. In general, respiratory reflexes such as response to hypoxia diminish. Overall, the brain exerts less control over breathing; electrical stimulation of respiration-linked brain areas does not influence the lungs, as it does during non-REM sleep and in waking. The fluctuations of heart rate and arterial pressure tend to coincide with PGO waves and rapid eye movements, twitches, or sudden changes in breathing.', 'Neuroscience of sleep REM Stage (REM Sleep – 20–25% of total sleep in adults): REM sleep is where most muscles are paralyzed, and heart rate, breathing and body temperature become unregulated. REM sleep is turned on by acetylcholine secretion and is inhibited by neurons that secrete monoamines including serotonin. REM is also referred to as paradoxical sleep because the sleeper, although exhibiting high-frequency EEG waves similar to a waking state, is harder to arouse than at any other sleep stage. Vital signs indicate arousal and oxygen consumption by the brain is higher than when the sleeper is awake. REM sleep is characterized by high global cerebral blood flow, comparable to wakefulness. In fact, many areas in the cortex have been recorded to have more blood flow during REM sleep than even wakefulness- this includes the hippocampus, temporal-occipital areas, some parts of the cortex, and basal forebrain. The limbic and paralimbic system including the amygdala are other active regions during REM sleep. Though the brain activity during REM sleep appears very similar to wakefulness, the main difference between REM and wakefulness is that, arousal in REM is more effectively inhibited. This, along with the virtual silence of monoaminergic neurons in the brain, may be said to characterize REM.', \"Neuroscience of sleep REM sleep is considered closer to wakefulness and is characterized by rapid eye movement and muscle atonia. NREM is considered to be deep sleep (the deepest part of NREM is called slow wave sleep), and is characterized by lack of prominent eye movement, or muscle paralysis. Especially during non-REM sleep, the brain uses significantly less energy during sleep than it does in waking. In areas with reduced activity, the brain restores its supply of adenosine triphosphate (ATP), the molecule used for short-term storage and transport of energy. (Since in quiet waking the brain is responsible for 20% of the body's energy use, this reduction has an independently noticeable impact on overall energy consumption.) During slow-wave sleep, humans secrete bursts of growth hormone. All sleep, even during the day, is associated with the secretion of prolactin.\", 'Rapid eye movement sleep The superior frontal gyrus, medial frontal areas, intraparietal sulcus, and superior parietal cortex, areas involved in sophisticated mental activity, show equal activity in REM sleep as in wakefulness. The amygdala is also active during REM sleep and may participate in generating the PGO waves, and experimental suppression of the amygdala results in less REM sleep. The amygdala may also regulate cardiac function in lieu of the less active insular cortex.', 'Rapid eye movement sleep In the ultradian sleep cycle, an organism alternates between deep sleep (slow, large, synchronized brain waves) and paradoxical sleep (faster, desynchronized waves). Sleep happens in the context of the larger circadian rhythm, which influences sleepiness and physiological factors based on timekeepers within the body. Sleep can be distributed throughout the day or clustered during one part of the rhythm: in nocturnal animals, during the day, and in diurnal animals, at night. The organism returns to homeostatic regulation almost immediately after REM sleep ends.', 'Neuroscience of sleep Much of the brain activity in sleep has been attributed to the thalamus and it appears that the thalamus may play a critical role in SWS. The two primary oscillations in slow wave sleep, delta and the slow oscillation, can be generated by both the thalamus and the cortex. However, sleep spindles can only be generated by the thalamus, making its role very important. The thalamic pacemaker hypothesis holds that these oscillations are generated by the thalamus but the synchronization of several groups of thalamic neurons firing simultaneously depends on the thalamic interaction with the cortex. The thalamus also plays a critical role in sleep onset when it changes from tonic to phasic mode, thus acting like a mirror for both central and decentral elements and linking distant parts of the cortex to co-ordinate their activity.', 'Activation-synthesis hypothesis Large parts of the brain that are activated and sending signals during waking are inactive during NREM sleep and become reactivated during REM sleep. It is based on the fact that the brain and its neural circuitry is plastic and self-regulating, especially in its own activation and inactivation. This was observed by two experiments: development of sleepiness after dopamine neuron destruction in substantia nigra in the midbrain, and discovery of the reticular activating system, which are visual cues received through our eyes and to our brain that begin the waking process, that waking consciousness depends sleep. Following these studies, it became clear that activity levels and quality of consciousness were functions of brain activation and deactivation.', 'Hypnopompia The objective difference between the subjective experiences of dreams and hypnopompic hallucinations emerges from a close look at the sleep cycle and its attendant brain activity: there are essentially two types of sleep, R.E.M. sleep, which is indeed categorized by \"rapid eye movement\" and N.R.E.M., which stands for \"Non-Rapid Eye Movement\". In R.E.M. sleep, brains are extremely active. In particular, during this stage, both the brain-stem, which is the home of the most fundamental physical drives, and the parts of the cortex related to the most complex logical-cognitive functions experience highly intense electrical activity. Thus, R.E.M. is where the majority of dreaming occurs - it has been all but confirmed at this point that dreams originate in the brain-stem, a spark from there driving the more logical mind to contemplate and consolidate, through dreaming, memories that relate to fulfilling fundamental drives. Conversely, there is almost no electrical activity during N.R.E.M. sleep. N.R.E.M. is what is referred to as \"deep sleep\", which is characterized by the complete quieting of the mind, to include dreamlessness, and by muscle \"atonia\", which is to say paralysis, a complete motor disconnect. A last critical point in this regard is that R.E.M. sleep cycles are book-ended by N.R.E.M. stages.', 'Rapid eye movement sleep The REM phase is also known as paradoxical sleep (PS) and sometimes  desynchronized sleep or dreamy sleep, because of physiological similarities to waking states including rapid, low-voltage desynchronized brain waves. Electrical and chemical activity regulating this phase seems to originate in the brain stem, and is characterized most notably by an abundance of the neurotransmitter acetylcholine, combined with a nearly complete absence of monoamine neurotransmitters histamine, serotonin and norepinephrine. Experiences of REM sleep are not transferred to permanent memory due to absence of norepinephrine.', 'Rapid eye movement sleep During REM sleep, electrical connectivity among different parts of the brain manifests differently than during wakefulness. Frontal and posterior areas are less coherent in most frequencies, a fact which has been cited in relation to the chaotic experience of dreaming. However, the posterior areas are more coherent with each other; as are the right and left hemispheres of the brain, especially during lucid dreams.', 'Rapid eye movement sleep Neural activity during REM sleep seems to originate in the brain stem, especially the pontine tegmentum and locus coeruleus. REM sleep is punctuated and immediately preceded by PGO (ponto-geniculo-occipital) waves, bursts of electrical activity originating in the brain stem. (PGO waves have long been measured directly in cats but not in humans because of constraints on experimentation; however, comparable effects have been observed in humans during \"phasic\" events which occur during REM sleep, and the existence of similar PGO waves is thus inferred.) These waves occur in clusters about every 6 seconds for 1–2 minutes during the transition from deep to paradoxical sleep. They exhibit their highest amplitude upon moving into the visual cortex and are a cause of the \"rapid eye movements\" in paradoxical sleep. Other muscles may also contract under the influence of these waves.', 'Rapid eye movement sleep Hobson and McCarley proposed that the PGO waves characteristic of \"phasic\" REM might supply the visual cortex and forebrain with electrical excitement which amplifies the hallucinatory aspects of dreaming. However, people woken up during sleep do not report significantly more bizarre dreams during phasic REMS, compared to tonic REMS. Another possible relationship between the two phenomena could be that the higher threshold for sensory interruption during REM sleep allows the brain to travel further along unrealistic and peculiar trains of thought.', 'Sleep paralysis Another major theory is that the neural functions that regulate sleep are out of balance in such a way that causes different sleep states to overlap. In this case, cholinergic sleep \"on\" neural populations are hyperactivated and the serotonergic sleep \"off\" neural populations are under-activated. As a result, the cells capable of sending the signals that would allow for complete arousal from the sleep state, the serotonergic neural populations, have difficulty in overcoming the signals sent by the cells that keep the brain in the sleep state. During normal REM sleep, the threshold for a stimulus to cause arousal is greatly elevated. Under normal conditions, medial and vestibular nuclei, cortical, thalamic, and cerebellar centers coordinate things such as head and eye movement, and orientation in space.', 'Sidarta Ribeiro Electrophysiological Evidence That the      Retrosplenial Cortex Displays a Strong and Specific Activation Phased      with Hippocampal Theta during Paradoxical (REM) Sleep. Koike BDV, Farias      KS, Billwiller F, Almeida-Filho D, Libourel PA, Tiran-Cappello A,      Parmentier R, Blanco W, Ribeiro S, Luppi PH, Queiroz CM.J      Neurosci. 2017      Aug 16;37(33):8003-8013. doi: 10.1523/JNEUROSCI.0026-17.2017.', 'Neuroscience of sleep Rapid eye movement sleep (REM), non-rapid eye movement sleep (NREM or non-REM), and waking represent the three major modes of consciousness, neural activity, and physiological regulation. NREM sleep itself is divided into multiple stages – N1, N2 and N3. Sleep proceeds in 90-minute cycles of REM and NREM, the order normally being N1 → N2 → N3 → N2 → REM. As humans fall asleep, body activity slows down. Body temperature, heart rate,  breathing rate, and energy use all decrease. Brain waves slow down. The excitatory neurotransmitter acetylcholine becomes less available in the brain. Humans often maneuver to create a thermally friendly environment—for example, by curling up into a ball if cold. Reflexes remain fairly active.', 'Neuroscience of sleep NREM Stage 1 (N1 – light sleep, somnolence, drowsy sleep – 5–10% of total sleep in adults): This is a stage of sleep that usually occurs between sleep and wakefulness, and sometimes occurs between periods of deeper sleep and periods of REM. The muscles are active, and the eyes roll slowly, opening and closing moderately. The brain transitions from alpha waves having a frequency of 8–13\\xa0Hz (common in the awake state) to theta waves having a frequency of 4–7\\xa0Hz. Sudden twitches and hypnic jerks, also known as positive myoclonus, may be associated with the onset of sleep during N1. Some people may also experience hypnagogic hallucinations during this stage. During Non-REM1, humans lose some muscle tone and most conscious awareness of the external environment.', 'Neuroscience of sleep NREM Stage 2 (N2 – 45–55% of total sleep in adults): In this stage, theta activity is observed and sleepers become gradually harder to awaken; the alpha waves of the previous stage are interrupted by abrupt activity called sleep spindles (or thalamocortical spindles) and K-complexes. Sleep spindles range from 11 to 16\\xa0Hz (most commonly 12–14\\xa0Hz). During this stage, muscular activity as measured by EMG decreases, and conscious awareness of the external environment disappears.', 'Rapid eye movement sleep Rapid eye movement sleep can be subclassified into tonic and phasic modes. Tonic REM is characterized by theta rhythms in the brain; phasic REM is characterized by PGO waves and actual \"rapid\" eye movements. Processing of external stimuli is heavily inhibited during phasic REM, and recent evidence suggests that sleepers are more difficult to arouse from phasic REM than in slow-wave sleep.', 'Sleep and breathing Intercostal muscle activity decreases in REM sleep and contribution of rib cage to respiration decreases during REM sleep. This is due to REM related supraspinal inhibition of alpha motoneuron drive and specific depression of fusimotor function. Diaphraghmatic activity correspondingly increases during REM sleep. Although paradoxical thoracoabdominal movements are not observed, the thoracic and abdominal displacements are not exactly in phase. This decrease in intercostal muscle activity is primarily responsible for hypoventilation that occurs in patients with borderline pulmonary function.', 'Rapid eye movement sleep Graeme Mitchison and Francis Crick proposed in 1983 that by virtue of its inherent spontaneous activity, the function of REM sleep \"is to remove certain undesirable modes of interaction in networks of cells in the cerebral cortex\"—a process they characterize as \"unlearning\". As a result, those memories which are relevant (whose underlying neuronal substrate is strong enough to withstand such spontaneous, chaotic activation) are further strengthened, whilst weaker, transient, \"noise\" memory traces disintegrate. Memory consolidation during paradoxical sleep is specifically correlated with the periods of rapid eye movement, which do not occur continuously. One explanation for this correlation is that the PGO electrical waves, which precede the eye movements, also influence memory. REM sleep could provide a unique opportunity for \"unlearning\" to occur in the basic neural networks involved in homeostasis, which are protected from this \"synaptic downscaling\" effect during deep sleep.', 'Basic rest–activity cycle When awake, brainwaves are faster during the first half of the cycle which corresponds to feeling alert and focused. During the last 20 minutes brainwaves slow and as the body feels dreamy or tired. In this phase the body is being readied for the alertness that comes at the beginning of the following cycle.', 'Neuroscience of sleep Some of the other observations about sleep included decrease of sympathetic activity and increase of parasympathetic activity in non-REM sleep, and increase of heart rate and blood pressure accompanied by decrease in homeostatic response and muscle tone during REM sleep. However, these symptoms are not limited to sleep situations and do not map to specific physiological definitions.', 'Neuroscience of sleep The multiple hypotheses proposed to explain the function of sleep reflect the incomplete understanding of the subject. While some functions of sleep are known, others have been proposed but not completely substantiated or understood. Some of the early ideas about sleep function were based on the fact that most (if not all) external activity is stopped during sleep. Initially, it was thought that sleep was simply a mechanism for the body to \"take a break\" and reduce wear. Later observations of the low metabolic rates in the brain during sleep seemed to indicate some metabolic functions of sleep. This theory is not fully adequate as sleep only decreases metabolism by about 5–10%. With the development of EEG, it was found that the brain has almost continuous internal activity during sleep, leading to the idea that the function could be that of reorganization or specification of neuronal circuits or strengthening of connections. These hypotheses are still being explored. Other proposed functions of sleep include- maintaining hormonal balance, temperature regulation and maintaining heart rate.', 'Unconscious mind Allan Hobson and colleagues developed what they called the activation-synthesis hypothesis which proposes that dreams are simply the side effects of the neural activity in the brain that produces beta brain waves during REM sleep that are associated with wakefulness. According to this hypothesis, neurons fire periodically during sleep in the lower brain levels and thus send random signals to the cortex. The cortex then synthesizes a dream in reaction to these signals in order to try to make sense of why the brain is sending them. However, the hypothesis does not state that dreams are meaningless, it just downplays the role that emotional factors play in determining dreams.', 'Reticular formation The physiological change from a state of deep sleep to wakefulness is reversible and mediated by the ARAS. The ventrolateral preoptic nucleus (VLPO) of the hypothalamus inhibits the neural circuits responsible for the awake state, and VLPO activation contributes to the sleep onset. During sleep, neurons in the ARAS will have a much lower firing rate; conversely, they will have a higher activity level during the waking state. In order that the brain may sleep, there must be a reduction in ascending afferent activity reaching the cortex by suppression of the ARAS.', 'Sleep onset The sleep cycle is normally defined in stages.  When an individual first begins to sleep, stage 1 is entered, marked by the presence of some theta activity, which indicates that the firing of neurons in the neocortex is becoming more synchronized, as well as alpha wave activity (smooth electrical activity of 8–12\\xa0Hz recorded from the brain, generally associated with a state of relaxation).  This stage is a transition between sleep and wakefulness. This stage is classified as non-REM sleep.', 'Rapid eye movement sleep Lack of REM atonia causes REM behavior disorder, those affected physically act out their dreams, or conversely \"dream out their acts\", under an alternative theory on the relationship between muscle impulses during REM and associated mental imagery (which would also apply to people without the condition, except that commands to their muscles are suppressed). This is different from conventional sleepwalking, which takes place during slow-wave sleep, not REM. Narcolepsy, by contrast, seems to involve excessive and unwanted REM atonia: cataplexy and excessive daytime sleepiness while awake, hypnagogic hallucinations before entering slow-wave sleep, or sleep paralysis while waking. Other psychiatric disorders including depression have been linked to disproportionate REM sleep. Patients with suspected sleep disorders are typically evaluated by polysomnogram.', 'Hypnic jerk One hypothesis posits that the hypnic jerk is a form of reflex, initiated in response to normal bodily events during the lead-up to the first stages of sleep, including a decrease in blood pressure and the relaxation of muscle tissue. Another theory postulates that the body mistakes the sense of relaxation that is felt when falling asleep as a sign that the body is falling. As a consequence, it causes a jerk to wake the sleeper up so they can catch themselves. A researcher at the University of Colorado suggested that a hypnic jerk could be \"an archaic reflex to the brain\\'s misinterpretation of muscle relaxation with the onset of sleep as a signal that a sleeping primate is falling out of a tree. The reflex may also have had selective value by having the sleeper readjust or review his or her sleeping position in a nest or on a branch in order to assure that a fall did not occur\", but evidence is lacking.', 'Why We Nap According to EEG measurements collected by Dr. Stampi during a 50-day trial of polyphasic ultrashort sleep with a test subject and published in his book Why We Nap, the proportion of sleep stages remains roughly the same during both polyphasic and monophasic sleep schedules.  The major differences are that the ratio of lighter sleep stages to deeper sleep stages is slightly reduced and that sleep stages are often taken out of order or not at all, that is, some naps may be composed primarily of slow wave sleep while rapid eye movement sleep dominates other naps.', 'Activation-synthesis hypothesis The four sleep stages have been identified as follows: sleep onset stage I, late-night stage II, and deep sleep stages III and IV. Deep sleep stages III and IV all occur during the first half of the night, while lighter stages I and II occur during the later half. During standard sleep laboratory measurements, the states of sleep and waking have behavioral, polygraphic, and psychological manifestation within the pontine brainstem. These states are regulated by a reciprocal relationship between two types of neuronal cells, aminergic inhibitory cells such as serotonin and norepinephrine and cholinergic excitatory cells such as acetylcholine. Changes in the sleep stages occur when the activity curves of these neurons cross. REM sleep stage I is a state of sleep just above and most closely linked to sleep onset stage I.'] \n",
      " B: ['Neuroscience of sleep NREM sleep is characterized by decreased global and regional cerebral blood flow. It constitutes ~80% of all sleep in adult humans. Initially, it was expected that the brainstem, which was implicated in arousal would be inactive, but this was later on found to have been due to low resolution of PET studies and it was shown that there is some slow wave activity in the brainstem as well. However, other parts of the brain, including the precuneus, basal forebrain and basal ganglia are deactivated during sleep. Many areas of the cortex are also inactive, but to different levels. For example, the ventromedial prefrontal cortex is considered the least active area while the primary cortex, the least deactivated.', 'Unihemispheric slow-wave sleep According to Fuller, awakening is characterized by high activity of neural groups that promote awakening: they activate the cortex as well as subcortical structures and simultaneously inhibit neural groups which promotes sleep. Therefore, sleep is defined by the opposite mechanism. It can be assumed that cetaceans show a similar structure, but the neural groups are stimulated according to the need of each hemisphere. So, neural mechanisms that promote sleep are predominant in the sleeping hemisphere, while the ones that promote awakening are more active in the non-sleeping hemisphere.', 'Neuroscience of sleep At a symptomatic level, sleep is characterized by lack of reactivity to sensory inputs, low motor output, diminished conscious awareness and rapid reversibility to wakefulness. However, to translate these into a biological definition is difficult because no single pathway in the brain is responsible for the generation and regulation of sleep. One of the earliest proposals was to define sleep as the deactivation of the cerebral cortex and the thalamus because of near lack of response to sensory inputs during sleep. However, this was invalidated because both regions are active in some phases of sleep. In fact, it appears that the thalamus is only deactivated in the sense of transmitting sensory information to the cortex.', 'Activation-synthesis hypothesis It has been shown that the internal activation of the brain is associated with the inhibition of both external sensory input and motor output. This implies that the brain is actively kept offline during REM, and the brainstem guarantees the coordination of factors I and A via the input-output gate control within the brainstem. PGO waves play a part in the ability of the brain to remain asleep while constituting the building blocks for perception and fine motor control via their phasic coordination. It has therefore been proposed that PGO signals are used in the construction of visual imagery of dreams.', 'Cognitive neuroscience of dreams The characteristics of REM sleep consistently contain a similar set of features.   While dreaming people regularly falsely believe that they are awake unless they implement lucidity.  Dreams contain multimodal pseudo-perceptions; sometimes any or all sensory modalities are present, but most often visual and motoric.   Dream imagery can change quickly and is regularly of a bizarre nature, but reports also contain many images and events that are a part of day-to-day life.  In dreams there is a reduction or absence of self-reflection or other forms of meta-cognition relative to during waking life.  Dreams are also characterized by a lack of \"orientational stability; persons, times, and places are fused, plastic, incongruous and discontinuous\". In addition, dreams form a single narrative to explain and integrate all dream elements. Lastly, NREM reports contain thought-like mentation and depictions of current concerns more frequently than REM reports.'] \n",
      " C: ['Rapid eye movement sleep REM sleep is called \"paradoxical\" because of its similarities to wakefulness. Although the body is paralyzed, the brain acts as if it is somewhat awake, with cerebral neurons firing with the same overall intensity as in wakefulness. Electroencephalography during REM deep sleep reveals fast, low amplitude, desynchronized neural oscillation (brainwaves) that resemble the pattern seen during wakefulness, which differ from the slow δ (delta) waves pattern of NREM deep sleep. An important element of this contrast is the 3–10 Hz theta rhythm in the hippocampus and 40–60\\xa0Hz gamma waves in the cortex; patterns of EEG activity similar to these rhythms are also observed during wakefulness. The cortical and thalamic neurons in the waking and REM sleeping brain are more depolarized (fire more readily) than in the NREM deep sleeping brain. Human theta wave activity predominates during REM sleep in both the hippocampus and the cortex.', 'Slow-wave sleep During slow-wave sleep, there is a significant decline in cerebral metabolic rate and cerebral blood flow. The activity falls to about 75 percent of the normal wakefulness level. The regions of the brain that are most active when awake have the highest level of delta waves during slow-wave sleep. This indicates that rest is geographical. The \"shutting down\" of the brain accounts for the grogginess and confusion if someone is awakened during deep sleep, since it takes the cerebral cortex time to resume its normal functions.', 'Slow-wave sleep This period of sleep is called slow-wave sleep because the EEG activity is synchronized, characterised by slow waves with a frequency range of 0.5–4.5 \\xa0Hz, relatively high amplitude power with peak-to-peak amplitude greater than 75µV. The first section of the wave signifies a \"down state\", an inhibition or hyperpolarizing phase in which the neurons in the neocortex are silent. This is the period when the neocortical neurons are able to rest. The second section of the wave signifies an \"up state\", an excitation or depolarizing phase in which the neurons fire briefly at a high rate. The principal characteristics during slow-wave sleep that contrast with REM sleep are moderate muscle tone, slow or absent eye movement, and lack of genital activity.', 'Rapid eye movement sleep Compared to slow-wave sleep, both waking and paradoxical sleep involve higher use of the neurotransmitter acetylcholine, which may cause the faster brainwaves. The  monoamine neurotransmitters norepinephrine, serotonin and histamine are completely unavailable. Injections of acetylcholinesterase inhibitor, which effectively increases available acetylcholine, have been found to induce paradoxical sleep in humans and other animals already in slow-wave sleep. Carbachol, which mimics the effect of acetylcholine on neurons, has a similar influence. In waking humans, the same injections produce paradoxical sleep only if the monoamine neurotransmitters have already been depleted.', 'Slow-wave sleep The slow-wave seen in the cortical EEG is generated through recurrent connections within the cerebral cortex, where cortical pyramidal cells excite one another in a positive feedback loop.  This recurrent excitation is balanced by inhibition, resulting in the active state of the slow oscillation of slow wave sleep.  Failure of this mechanism results in a silencing of activity for a brief period of time.  The recurrence of active and silent periods occurs at a rate of 0.5-4 Hz, giving rise to the slow waves of the EEG seen during slow wave sleep.', 'Neuroscience of sleep NREM sleep is characterized by slow oscillations, spindles and delta waves. The slow oscillations have been shown to be from the cortex, as lesions in other parts of the brain do not affect them, but lesions in the cortex do. The delta waves have been shown to be generated by recurrent connections within the cerebral cortex. During slow wave sleep, the cortex generates brief periods of activity and inactivity at 0.5-4 Hz, resulting in the generation of the delta waves of slow wave sleep.  During this period, the thalamus stops relaying sensory information to the brain, however it continues to produce signals, such as spindle waves, that are sent to its cortical projections. Sleep spindles of slow wave sleep are generated as an interaction of the thalamic reticular nucleus with thalamic relay neurons.  The sleep spindles have been predicted to play a role in disconnecting the cortex from sensory input and allowing entry of calcium ions into cells, thus potentially playing a role in plasticity.', 'Brain Sleep involves great changes in brain activity. Until the 1950s it was generally believed that the brain essentially shuts off during sleep, but this is now known to be far from true; activity continues, but patterns become very different. There are two types of sleep: REM sleep (with dreaming) and NREM (non-REM, usually without dreaming) sleep, which repeat in slightly varying patterns throughout a sleep episode. Three broad types of distinct brain activity patterns can be measured: REM, light NREM and deep NREM. During deep NREM sleep, also called slow wave sleep, activity in the cortex takes the form of large synchronized waves, whereas in the waking state it is noisy and desynchronized. Levels of the neurotransmitters norepinephrine and serotonin drop during slow wave sleep, and fall almost to zero during REM sleep; levels of acetylcholine show the reverse pattern.', 'Neuroscience of sleep In EEG recordings, REM sleep is characterized by high frequency, low amplitude activity and spontaneous occurrence of beta and gamma waves. The best candidates for generation of these fast frequency waves are fast rhythmic bursting neurons in corticothalamic circuits. Unlike in slow wave sleep, the fast frequency rhythms are synchronized over restricted areas in specific local circuits between thalamocortical and neocortical areas. These are said to be generated by cholinergic processes from brainstem structures.', 'Delta wave Parasomnias, a category of sleep disorders, are often associated with disruptions in slow wave sleep. Sleep walking and sleep talking most often occur during periods of high delta wave activity. Sleep walkers have also been shown to have more hypersynchronous delta activity (HSD) compared to total time spent in stages 2, 3, and 4 sleep relative to healthy controls. HSD refers to the presence of continuous, high-voltage (> 150 µV) delta waves seen in sleep EEGs. Parasomnias which occur deep in NREM sleep also include sleep terrors and confusional arousals.', 'Neuroscience of sleep More recently, the problem of definition has been addressed by observing overall brain activity in the form of characteristic EEG patterns. Each stage of sleep and wakefulness has a characteristic pattern of EEG which can be used to identify the stage of sleep. Waking is usually characterized by beta (12–30\\xa0Hz) and gamma (25–100\\xa0Hz) depending on whether there was a peaceful or stressful activity. The onset of sleep involves slowing down of this frequency to the drowsiness of alpha (8–12\\xa0Hz) and finally to theta (4–10\\xa0Hz) of Stage 1 NREM sleep. This frequency further decreases progressively through the higher stages of NREM and REM sleep. On the other hand, the amplitude of sleep waves is lowest during wakefulness (10–30μV) and shows a progressive increase through the various stages of sleep. Stage 2 is characterized by sleep spindles (intermittent clusters of waves at sigma frequency i.e. 12–14\\xa0Hz) and K complexes (sharp upward deflection followed by slower downward deflection). Stage 3 sleep has more sleep spindles. Stage 3 has very high amplitude delta waves (0–4\\xa0Hz) and is known as slow wave sleep. REM sleep is characterized by low amplitude, mixed frequency waves. A sawtooth wave pattern is often present.', \"Reticular formation The main function of the ARAS is to modify and potentiate thalamic and cortical function such that electroencephalogram (EEG) desynchronization ensues. There are distinct differences in the brain's electrical activity during periods of wakefulness and sleep: Low voltage fast burst brain waves (EEG desynchronization) are associated with wakefulness and REM sleep (which are electrophysiologically similar); high voltage slow waves are found during non-REM sleep. Generally speaking, when thalamic relay neurons are in burst mode the EEG is synchronized and when they are in tonic mode it is desynchronized. Stimulation of the ARAS produces EEG desynchronization by suppressing slow cortical waves (0.3–1\\xa0Hz), delta waves (1–4\\xa0Hz), and spindle wave oscillations (11–14\\xa0Hz) and by promoting gamma band (20–40\\xa0Hz) oscillations.\", 'Recurrent thalamo-cortical resonance Non-rapid eye movement (NREM) sleep differs from REM in that gamma activity is no longer prominent, stepping aside for lower frequency oscillations. While electrical activity at gamma frequencies can occasionally be detected in NREM, it is infrequent and comes in bursts. The exact purpose of its appearance in NREM is not understood. In NREM sleep, thalamocortical oscillatory activity is still present, but the overall frequencies range from the slow (<1\\xa0Hz), to the delta (1–4\\xa0Hz), and theta (4–7\\xa0Hz) range. Synchronized theta oscillation has additionally been observed in the hippocampus during NREM.', 'Neuroscience of sleep NREM Stage 3 (N3 – 15–25% of total sleep in adults): Formerly divided into stages 3 and 4, this stage is called slow-wave sleep (SWS) or deep sleep. SWS is initiated in the preoptic area and consists of delta activity, high amplitude waves at less than 3.5\\xa0Hz. The sleeper is less responsive to the environment; many environmental stimuli no longer produce any reactions. Slow-wave sleep is thought to be the most restful form of sleep, the phase which most relieves subjective feelings of sleepiness and restores the body.', \"Sleep cycle Electroencephalography shows the timing of sleep cycles by virtue of the marked distinction in brainwaves manifested during REM and non-REM sleep. Delta wave activity, correlating with slow-wave (deep) sleep, in particular shows regular oscillations throughout a good night's sleep. Secretions of various hormones, including renin, growth hormone, and prolactin, correlate positively with delta-wave activity, while secretion of thyroid-stimulating hormone correlates inversely. Heart rate variability, well known to increase during REM, predictably also correlates inversely with delta-wave oscillations over the ~90-minute cycle.\", 'Unihemispheric slow-wave sleep Slow-wave sleep (SWS), also known as Stage 3, is characterized by a lack of movement and difficulty of arousal. Slow-wave sleep occurring in both hemispheres is referred to as bihemispheric slow-wave sleep (BSWS) and is common among most animals. Slow-wave sleep contrasts with rapid eye movement sleep (REM), which can only occur simultaneously in both hemispheres. In most animals, slow-wave sleep is characterized by high amplitude, low frequency EEG readings. This is also known as the desynchronized state of the brain, or deep sleep.', 'Sleep and memory Stage three and four are very similar and together are considered to be \"deep sleep\". In  these stages brain activity transitions to delta waves which are the lowest in frequency and highest in amplitude. These two stages combined are also called slow wave sleep (SWS).', 'James B. Ranck Jr. Electrical impedance in the subicular area of rats during paradoxical sleep. Ranck JB Jr. Exp Neurol. 1966 Dec;16(4):416-37.', 'Unihemispheric slow-wave sleep Unihemispheric slow-wave sleep (USWS) is sleep where one half of the brain rests while the other half remains alert. This is in contrast to normal sleep where both eyes are shut and both halves of the brain show unconsciousness. In USWS, also known as asymmetric slow-wave sleep, one half of the brain is in deep sleep, a form of non-rapid eye movement sleep and the eye corresponding to this half is closed while the other eye remains open. When examined by low-voltage electroencephalography (EEG), the characteristic slow-wave sleep tracings are seen from one side while the other side shows a characteristic tracing of wakefulness. The phenomenon has been observed in a number of terrestrial, aquatic and avian species.', 'Slow-wave sleep Slow-wave sleep is an active phenomenon probably brought about by the activation of serotonergic neurons of the raphe system.', 'Slow-wave sleep Several neurotransmitters are involved in sleep and waking patterns: acetylcholine, norepinephrine, serotonin, histamine, and orexin. Neocortical neurons fire spontaneously during slow-wave sleep, thus they seem to play a role during this period of sleep. Also, these neurons appear to have some sort of internal dialogue, which accounts for the mental activity during this state where there is no information from external signals (because of the synaptic inhibition at the thalamic level). The rate of recall of dreams during this state of sleep is relatively high compared to the other levels of the sleep cycle. This indicates that mental activity is closer to real life events.', 'EEG microstates This study illuminates the complexity of brain activity and EEG dynamics. The data suggest that \"alpha (wave) activity could be indexing different brain information in each arousal state.\" Furthermore, they suggest that the alpha rhythm could be the \"natural resonance frequency of the visual cortex during the waking state, whereas the alpha activity that appears in the drowsiness period at sleep onset could be indexing the hypnagogic imagery self-generated by the sleeping brain, and a phasic event in the case of REM sleep.\" Another claim is that longer periods of stable brain activity may be handling smaller amounts of information processing, and thus few changes in microstates, while shorter, less-stable brain activity may reflect large amounts of different information to process, and thus more microstate changes.', 'Secondary consciousness In one study, researchers sought physiological correlates of lucid dreaming. They showed that the unusual combination of hallucinatory dream activity and wake-like reflective awareness and agentive control experienced in lucid dreams is paralleled by significant changes in electrophysiology. Participants were recorded using 19-channel electroencephalography (EEG), and 3 achieved lucidity in the experiment. Differences between REM sleep and lucid dreaming were most prominent in the 40-Hz frequency band. The increase in 40-Hz power was especially strong at frontolateral and frontal sites.  Their findings include the indication that 40-Hz activity holds a functional role in the modulation of conscious awareness across different conscious states. Furthermore, they termed lucid dreaming as a hybrid state, or that lucidity occurs in a state with features of both REM sleep and waking. In order to move from non-lucid REM sleep dreaming to lucid REM sleep dreaming, there must be a shift in brain activity in the direction of waking.'] \n",
      " D: [\"Physiological psychology REM sleep is the less restful stage in which you dream and experience muscle movements or twitches. Also during this stage in sleep, a person's heart rate and breathing are typically irregular. Non-REM sleep, also sometimes referred to as slow-wave sleep, is associated with deep sleep. The body's blood pressure, heart rate, and breathing are generally significantly decreased compared to an alert state. Dreaming can occur in this state; however a person is not able to remember them due to how deep in sleep they are and the inability for consolidation to occur in memory. REM cycles typically occur in 90 minute intervals and increase in length as the amount of sleep in one session progresses. In a typical night's rest, a person will have about four to six cycles of REM and Non-REM sleep.\", \"Central sleep apnea In pure central sleep apnea, the brain's respiratory control centers, located in the region of the human brain known as the pre-Botzinger complex, are imbalanced during sleep and fail to give the signal to inhale, causing the individual to miss one or more cycles of breathing. The neurological feedback mechanism that monitors blood levels of carbon dioxide and in turn stimulates respiration fails to react quickly enough to maintain an even respiratory rate, allowing the entire respiratory system to cycle between apnea and hyperpnea, even for a brief time following an awakening during a breathing pause. The sleeper stops breathing for up to two minutes and then starts again. There is no effort made to breathe during the pause in breathing: there are no chest movements and no muscular struggling, although when awakening occurs in the middle of a pause, the inability to immediately operate the breathing muscles often results in cognitive struggle accompanied by a feeling of panic exacerbated by the feeling associated with excessive blood CO2 levels. Even in severe cases of central sleep apnea, however, the effects almost always result in pauses that make breathing irregular rather than cause the total cessation of breathing over the medium term. After the episode of apnea, breathing may be faster and/or more intense (hyperpnea) for a period of time, a compensatory mechanism to blow off retained waste gases, absorb more oxygen, and, when voluntary, enable a return to normal instinctive breathing patterns by restoring oxygen to the breathing muscles themselves.\", \"Sleep disorder A different systematic review offers a high range of prevalence rates of sleep bruxism for children. Parasomnias like sleepwalking and talking typically occur during the first part of an individual's sleep cycle, the first slow wave of sleep  During the first slow wave of sleep period of the sleep cycle the mind and body slow down causing one to feel drowsy and relaxed. At this stage it is the easiest to wake up, therefore many children do not remember what happened during this time.\"]\n"
     ]
    }
   ],
   "source": [
    "# Inspect an instance manually to see if it makes sense\n",
    "id = 22\n",
    "print(data[id]['Question_With_Options'], \":\", \"\\n A:\", data[id]['Answer_A_Docs'], \"\\n B:\", data[id]['Answer_B_Docs'], \"\\n C:\", data[id]['Answer_C_Docs'], \"\\n D:\", data[id]['Answer_D_Docs'])"
   ]
  },
  {
   "cell_type": "markdown",
   "id": "526f1d4f",
   "metadata": {},
   "source": [
    "## Calculate Correlation"
   ]
  },
  {
   "cell_type": "code",
   "execution_count": 18,
   "id": "f245ebc0",
   "metadata": {},
   "outputs": [
    {
     "name": "stdout",
     "output_type": "stream",
     "text": [
      "After filtering, dataset size: 777\n"
     ]
    }
   ],
   "source": [
    "data = data.filter(lambda x: x['Answer_A_Rate'] is not None and x['Answer_B_Rate'] is not None and x['Answer_C_Rate'] is not None and x['Answer_D_Rate'] is not None)\n",
    "# data = data.filter(lambda x: x['Has_Content_Distractors'] == 2)\n",
    "\n",
    "print(\"After filtering, dataset size:\", len(data))"
   ]
  },
  {
   "cell_type": "code",
   "execution_count": 19,
   "id": "7b01f21b",
   "metadata": {},
   "outputs": [],
   "source": [
    "def calc_correlation(type='pearson'):\n",
    "    \n",
    "    print(type.capitalize(), \"correlation between distractor rates and document lengths(A-D, p-values in between):\")\n",
    "    correlations_with_docs_len = {}\n",
    "\n",
    "    for choice_name in [f\"Answer_{choice}\" for choice in ['A', 'B', 'C', 'D']]:\n",
    "        rates = data[f'{choice_name}_Rate']\n",
    "        doc_lengths = [len(sentence_list) for sentence_list in data[f'{choice_name}_Docs']]\n",
    "        correlation, p = None, None\n",
    "        if type == 'pearson':\n",
    "            correlation, p = pearsonr(rates, doc_lengths)\n",
    "        elif type == 'spearman':\n",
    "            correlation, p = spearmanr(rates, doc_lengths)\n",
    "        \n",
    "        correlations_with_docs_len[choice_name] = (round(correlation,4), round(p,4))\n",
    "        # print(choice_name,\"\\n\", round(correlation,4), \"\\t\", round(p,4))\n",
    "    \n",
    "    correlations_string = \"\\t\".join(\n",
    "        [f\"{str(correlation)} {str(p)}\"\n",
    "         for (correlation, p) in correlations_with_docs_len.values()]\n",
    "    )  \n",
    "    print(correlations_string)"
   ]
  },
  {
   "cell_type": "code",
   "execution_count": 20,
   "id": "eb13c0bc",
   "metadata": {},
   "outputs": [
    {
     "name": "stdout",
     "output_type": "stream",
     "text": [
      "Pearson correlation between distractor rates and document lengths(A-D, p-values in between):\n",
      "0.1311 0.0002\t0.1456 0.0\t0.0757 0.0349\tnan nan\n",
      "Spearman correlation between distractor rates and document lengths(A-D, p-values in between):\n",
      "0.1283 0.0003\t0.1269 0.0004\t0.0971 0.0067\tnan nan\n"
     ]
    }
   ],
   "source": [
    "calc_correlation('pearson')\n",
    "calc_correlation('spearman')"
   ]
  }
 ],
 "metadata": {
  "kernelspec": {
   "display_name": "distractor_preference_env",
   "language": "python",
   "name": "python3"
  },
  "language_info": {
   "codemirror_mode": {
    "name": "ipython",
    "version": 3
   },
   "file_extension": ".py",
   "mimetype": "text/x-python",
   "name": "python",
   "nbconvert_exporter": "python",
   "pygments_lexer": "ipython3",
   "version": "3.13.1"
  }
 },
 "nbformat": 4,
 "nbformat_minor": 5
}
