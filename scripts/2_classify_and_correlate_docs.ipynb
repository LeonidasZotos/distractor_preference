{
 "cells": [
  {
   "cell_type": "code",
   "execution_count": 1,
   "id": "d558e46b",
   "metadata": {},
   "outputs": [
    {
     "name": "stderr",
     "output_type": "stream",
     "text": [
      "/home4/p285811/distractor_preference/distractor_preference_env/lib/python3.13/site-packages/tqdm/auto.py:21: TqdmWarning: IProgress not found. Please update jupyter and ipywidgets. See https://ipywidgets.readthedocs.io/en/stable/user_install.html\n",
      "  from .autonotebook import tqdm as notebook_tqdm\n"
     ]
    }
   ],
   "source": [
    "import os\n",
    "from sentence_transformers import SentenceTransformer\n",
    "from datasets import load_dataset\n",
    "import torch\n",
    "from tqdm import tqdm\n",
    "import numpy as np\n",
    "from scipy.stats import pearsonr, spearmanr\n",
    "\n",
    "os.environ['HF_HOME'] = '/scratch/' + str(open('../tokens/HPC_ACCOUNT_ID.txt', 'r').read())\n",
    "cache_dir = '/scratch/' + str(open('../tokens/HPC_ACCOUNT_ID.txt', 'r').read()) + '/cache'"
   ]
  },
  {
   "cell_type": "code",
   "execution_count": 2,
   "id": "e4b2f25b",
   "metadata": {},
   "outputs": [],
   "source": [
    "DATASET = \"LeoZotos/immu_full\"\n",
    "WIKI = \"Simple\" # 'En' or 'Simple'\n",
    "SOURCE_TEXT = \"Only_Options\"  # 'Only_Options' or 'Question_With_Options'\n",
    "NUM_DOCS_RETRIEVED = 20 # 20 40 or 60\n",
    "\n",
    "RETRIEVED_DOCS_COL_NAME = 'Relevant_Docs_' + WIKI + '_' + SOURCE_TEXT + '_' + str(NUM_DOCS_RETRIEVED) # for the docs retrieval only based on the choices"
   ]
  },
  {
   "cell_type": "code",
   "execution_count": 3,
   "id": "a5aa9a27",
   "metadata": {},
   "outputs": [],
   "source": [
    "hf_api_key = \"\"\n",
    "with open(\"../tokens/HF_TOKEN.txt\", \"r\") as f:\n",
    "    hf_api_key = f.read().strip()\n",
    "device = torch.device('cuda' if torch.cuda.is_available() else 'cpu')"
   ]
  },
  {
   "cell_type": "code",
   "execution_count": 4,
   "id": "798bb379",
   "metadata": {},
   "outputs": [],
   "source": [
    "sentence_bert_model = SentenceTransformer('sentence-transformers/all-MiniLM-L6-v2')"
   ]
  },
  {
   "cell_type": "code",
   "execution_count": 5,
   "id": "ebbcd508",
   "metadata": {},
   "outputs": [],
   "source": [
    "data = load_dataset(DATASET, split='train', token=hf_api_key, cache_dir=cache_dir)"
   ]
  },
  {
   "cell_type": "code",
   "execution_count": 6,
   "id": "7b6aaf45",
   "metadata": {},
   "outputs": [],
   "source": [
    "def print_similarities(similarities, sentences1, sentences2):\n",
    "    for idx_i, sentence1 in enumerate(sentences1):\n",
    "        print(sentence1)\n",
    "        for idx_j, sentence2 in enumerate(sentences2):\n",
    "            print(f\" - {sentence2: <30}: {similarities[idx_i][idx_j]:.4f}\")\n",
    "\n",
    "\n",
    "def classify_docs_per_distractor(row, sentence_bert_model):\n",
    "    docs_per_choice = {}\n",
    "    for key in ['Answer_A', 'Answer_B', 'Answer_C', 'Answer_D']:\n",
    "        if row[key] != \"\":\n",
    "                docs_per_choice[key + '_Docs'] = []\n",
    "    choices_keys = [key[:-5] for key in docs_per_choice.keys()]\n",
    "    choices_content = [row[key] for key in choices_keys if row[key] != \"\"]\n",
    "    embeddings_choices = sentence_bert_model.encode(choices_content)\n",
    "    embeddings_docs = sentence_bert_model.encode(row[RETRIEVED_DOCS_COL_NAME])\n",
    "    similarities = sentence_bert_model.similarity(embeddings_choices, embeddings_docs)\n",
    "\n",
    "    # We now add each doc to the choice with the highest similarity\n",
    "    for i, doc in enumerate(row[RETRIEVED_DOCS_COL_NAME]):\n",
    "        max_sim_index = np.argmax(similarities[:, i])\n",
    "        max_choice = list(docs_per_choice.keys())[max_sim_index]\n",
    "        docs_per_choice[max_choice].append(doc)\n",
    "    \n",
    "    return docs_per_choice"
   ]
  },
  {
   "cell_type": "code",
   "execution_count": 7,
   "id": "b75f44ce",
   "metadata": {},
   "outputs": [
    {
     "name": "stderr",
     "output_type": "stream",
     "text": [
      "  0%|          | 0/843 [00:00<?, ?it/s]"
     ]
    },
    {
     "name": "stderr",
     "output_type": "stream",
     "text": [
      "100%|██████████| 843/843 [00:12<00:00, 65.46it/s]\n"
     ]
    }
   ],
   "source": [
    "column_names = [f\"Answer_{choice}_Docs\" for choice in ['A', 'B', 'C', 'D']]\n",
    "docs_by_choice = {name: [] for name in column_names}\n",
    "\n",
    "for row in tqdm(data):\n",
    "    docs_per_choice_for_row = classify_docs_per_distractor(row, sentence_bert_model)\n",
    "    for name in column_names:\n",
    "        docs_by_choice[name].append(docs_per_choice_for_row.get(name, []))\n",
    "        \n",
    "if column_names[0] in data.column_names:\n",
    "    data = data.remove_columns(column_names)\n",
    "    \n",
    "for name, column_data in docs_by_choice.items():\n",
    "    data = data.add_column(name, column_data)"
   ]
  },
  {
   "cell_type": "code",
   "execution_count": 8,
   "id": "4c30d5a4",
   "metadata": {},
   "outputs": [
    {
     "name": "stdout",
     "output_type": "stream",
     "text": [
      "M cells are crucial for the initiation of mucosal immunity. Where can these M cells be found?\n",
      "A) In Peyer's patches\n",
      "B) In GALT and in between intestinal epithelial cells\n",
      "C) In parts of the entire ileum that have contact with mesenteric lymph nodes\n",
      "D) In lymph nodes\n",
      " : \n",
      " A: [] \n",
      " B: ['Duodenal cancer The duodenum is the first part of the small intestine. It is located between the stomach and the jejunum. After foods combine with stomach acid, they go down into the duodenum where they mix with bile from the gall bladder and digestive juices from the pancreas.', 'Gastrointestinal disease Gastrointestinal diseases are about diseases that affect the gastrointestinal tract. They include the oesophagus, stomach, small intestine, large intestine, rectum, the liver, gallbladder, and pancreas.', 'Organ system Digestive system: digestion and processing food with salivary glands, esophagus, stomach, liver, gallbladder, pancreas, intestines, rectum and anus.', 'Intestine The intestines, divided into the small intestine and the large intestine, of an animal are like a tube through which food and bile from the stomach move.', 'Small intestine The small intestine is between the stomach and the large intestine, and is where most of the digestion and absorption happen. In humans over five years old, the small intestine is about 7.5 meters long.', 'Gastrointestinal cancer Gastrointestinal cancer refers to malignant conditions of the gastrointestinal tract (GI tract) and accessory organs of digestion, including the esophagus, stomach, biliary system, pancreas, small intestine, large intestine, rectum and anus.', 'Small intestine The duodenum: receives bile and juice from the pancreas, and is where most digestion in the small intestine takes place. Secretions limit, or neutralise, the stomach acidity, and enzymes help to digest the food.', 'Intestine The first part of the small intestine is called the duodenum, where most food is broken down by enzymes. Later, the small intestine absorbs useful compounds from the digested food, which is done using small villi or tiny microvilli  - hair-like structures in the walls of the intestine.', 'Oesophagus The oesophagus (or esophagus) is also called the gullet. It is the part of the gastrointestinal system between the mouth and the stomach. It connects the pharynx and the stomach. It is about  long.', 'Duodenum The duodenum is a short section of the small intestine, and is where most digestion in the small intestine takes place. It receives secretions, including bile and juice, from the pancreas and the liver through the pancreatic and common bile ducts. These secretions limit, or neutralise, the stomach acidity. Also, enzymes help to digest the food.', \"Stomach The stomach is part of the digestive system. It is an internal organ between the esophagus and the small intestines. The stomach is the third stage in the digestive process. It holds food after ingestion. Food in the stomach then passes through to the small intestine where most of the food's nutrition is absorbed.\"] \n",
      " C: ['Large intestine The Large intestine is also called the colon or large bowel. It connects the small intestine to the rectum and anus. It is about 1.5 meters long or 5 feet. It is shorter than the small intestine, but its diameter is larger.', 'Colon (anatomy) The colon is a part of the large intestine. It is between the cecum and the rectum. The colon takes water from the feces that goes through it. The colon in mammals can be divided into four sections:', 'Small intestine The ileum: absorbs vitamin B12, bile salts, and any other products of digestion that were not absorbed by the jejunum.', 'Lymphogranuloma venereum Swollen groin lymph nodes on one or both sides; it may also affect lymph nodes around the rectum in people who have anal intercourse', 'Jejunum The jejunum is a section of the small intestine between the duodenum and the ileum. It is between 1 and 2 meters long.The term \"jejunum\" derives from the Latin \"jejunus,\" which means \"empty of food,\" \"meager,\" or \"hungry.\" The ancient Greeks noticed at death that this part of the intestine was always empty of food. Hence, the name the jejunum.', 'Peptic ulcer A peptic ulcer is an ulcer of the stomach or duodenum. The duodenum is the first part of the small intestines. It is the tube that food goes through when it leaves the stomach. Peptic means talking about the stomach.', 'Rectum The rectum is a part of the large intestine which forms a part of the gastrointestinal system. The rectum ends in the anus which is the end of the gastrointestinal system. It is where feces or stools are stored temporarily before coming out of the anus.', 'Anus The anus is the opening in the human body that is between the buttocks. It is at the end of the gastrointestinal system (including the organs that digest food), where feces or stool comes out of the body.'] \n",
      " D: ['Lymph node A Lymph node () is an organ consisting of many types of cells, and is a part of the lymphatic system. Lymph nodes are found all through the body, and remove foreign (not of the body) objects from the body. Lymph nodes contain white blood cells. They are important for the correct use of the immune system.']\n"
     ]
    }
   ],
   "source": [
    "# Inspect an instance manually to see if it makes sense\n",
    "id = 22\n",
    "print(data[id]['Question_With_Options'], \":\", \"\\n A:\", data[id]['Answer_A_Docs'], \"\\n B:\", data[id]['Answer_B_Docs'], \"\\n C:\", data[id]['Answer_C_Docs'], \"\\n D:\", data[id]['Answer_D_Docs'])"
   ]
  },
  {
   "cell_type": "markdown",
   "id": "526f1d4f",
   "metadata": {},
   "source": [
    "## Calculate Correlation"
   ]
  },
  {
   "cell_type": "code",
   "execution_count": 9,
   "id": "f245ebc0",
   "metadata": {},
   "outputs": [
    {
     "name": "stdout",
     "output_type": "stream",
     "text": [
      "After filtering, dataset size: 338\n"
     ]
    }
   ],
   "source": [
    "data = data.filter(lambda x: x['Answer_A_Rate'] is not None and x['Answer_B_Rate'] is not None and x['Answer_C_Rate'] is not None and x['Answer_D_Rate'] is not None)\n",
    "data = data.filter(lambda x: x['Has_Content_Distractors'] == 2)\n",
    "\n",
    "print(\"After filtering, dataset size:\", len(data))"
   ]
  },
  {
   "cell_type": "code",
   "execution_count": null,
   "id": "7b01f21b",
   "metadata": {},
   "outputs": [],
   "source": [
    "def calc_correlation(type='pearson'):\n",
    "    \n",
    "    print(type.capitalize(), \"correlation between distractor rates and document lengths(A-D, p-values in between):\")\n",
    "    correlations_with_docs_len = {}\n",
    "\n",
    "    for choice_name in [f\"Answer_{choice}\" for choice in ['A', 'B', 'C', 'D']]:\n",
    "        rates = data[f'{choice_name}_Rate']\n",
    "        doc_lengths = [len(sentence_list) for sentence_list in data[f'{choice_name}_Docs']]\n",
    "        correlation, p = None, None\n",
    "        if type == 'pearson':\n",
    "            correlation, p = pearsonr(rates, doc_lengths)\n",
    "        elif type == 'spearman':\n",
    "            correlation, p = spearmanr(rates, doc_lengths)\n",
    "        \n",
    "        correlations_with_docs_len[choice_name] = (round(correlation,4), round(p,4))\n",
    "        # print(choice_name,\"\\n\", round(correlation,4), \"\\t\", round(p,4))\n",
    "    \n",
    "    correlations_string = \"\\t\".join(\n",
    "        [f\"{str(correlation)} {str(p)}\"\n",
    "         for (correlation, p) in correlations_with_docs_len.values()]\n",
    "    )  \n",
    "    print(correlations_string)"
   ]
  },
  {
   "cell_type": "code",
   "execution_count": 19,
   "id": "eb13c0bc",
   "metadata": {},
   "outputs": [
    {
     "name": "stdout",
     "output_type": "stream",
     "text": [
      "Pearson correlation between distractor rates and document lengths:\n",
      "-0.0161 0.768\t-0.0154 0.7775\t-0.0062 0.9091\t-0.0594 0.2761\n",
      "Spearman correlation between distractor rates and document lengths:\n",
      "-0.024 0.6597\t-0.0185 0.7349\t-0.0168 0.7589\t-0.0019 0.9726\n"
     ]
    }
   ],
   "source": [
    "calc_correlation('pearson')\n",
    "calc_correlation('spearman')"
   ]
  }
 ],
 "metadata": {
  "kernelspec": {
   "display_name": "distractor_preference_env",
   "language": "python",
   "name": "python3"
  },
  "language_info": {
   "codemirror_mode": {
    "name": "ipython",
    "version": 3
   },
   "file_extension": ".py",
   "mimetype": "text/x-python",
   "name": "python",
   "nbconvert_exporter": "python",
   "pygments_lexer": "ipython3",
   "version": "3.13.1"
  }
 },
 "nbformat": 4,
 "nbformat_minor": 5
}
