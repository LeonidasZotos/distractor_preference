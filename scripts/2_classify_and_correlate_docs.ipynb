{
 "cells": [
  {
   "cell_type": "code",
   "execution_count": 57,
   "id": "d558e46b",
   "metadata": {},
   "outputs": [],
   "source": [
    "import os\n",
    "from sentence_transformers import SentenceTransformer\n",
    "from datasets import load_dataset\n",
    "import torch\n",
    "from tqdm import tqdm\n",
    "import numpy as np\n",
    "from scipy.stats import pearsonr, spearmanr\n",
    "import pandas as pd\n",
    "\n",
    "os.environ['HF_HOME'] = '/scratch/' + str(open('../tokens/HPC_ACCOUNT_ID.txt', 'r').read())\n",
    "cache_dir = '/scratch/' + str(open('../tokens/HPC_ACCOUNT_ID.txt', 'r').read()) + '/cache'\n",
    "hf_api_key = \"\"\n",
    "with open(\"../tokens/HF_TOKEN.txt\", \"r\") as f:\n",
    "    hf_api_key = f.read().strip()\n",
    "device = torch.device('cuda' if torch.cuda.is_available() else 'cpu')\n",
    "\n",
    "sentence_bert_model = SentenceTransformer('sentence-transformers/all-MiniLM-L6-v2')"
   ]
  },
  {
   "cell_type": "code",
   "execution_count": 58,
   "id": "e4b2f25b",
   "metadata": {},
   "outputs": [],
   "source": [
    "DATASET = \"LeoZotos/bio_full\"\n",
    "WIKI = \"Simple\" # 'En' or 'Simple'\n",
    "SOURCE_TEXT = \"_Only_Options\"  # '_Only_Options' # or '' for full text\n",
    "NUM_DOCS_RETRIEVED = 60 # 20 or 60\n",
    "HAS_CONTENT_DISTRACTORS = -1 # 0 to 2, -1 for any\n",
    "SHORT_OPTIONS_THRESHOLD = 10000 # >500 for all options, otherwise 20 or so for short options\n",
    "\n",
    "RETRIEVED_DOCS_COL_NAME = 'Relevant_Docs_' + WIKI + SOURCE_TEXT + '_' + str(NUM_DOCS_RETRIEVED)"
   ]
  },
  {
   "cell_type": "code",
   "execution_count": 59,
   "id": "f245ebc0",
   "metadata": {},
   "outputs": [
    {
     "name": "stdout",
     "output_type": "stream",
     "text": [
      "Before filtering, dataset size: 778\n",
      "After filtering, dataset size: 396\n"
     ]
    }
   ],
   "source": [
    "def is_nan_or_none(x):\n",
    "    return x is None or (isinstance(x, float) and np.isnan(x))\n",
    "\n",
    "def has_short_options(list_of_options, threshold=20):\n",
    "    non_empty_options = [option for option in list_of_options if option and not is_nan_or_none(option)]\n",
    "    avg_length = sum(len(option) for option in non_empty_options) / len(non_empty_options)\n",
    "    return avg_length < threshold\n",
    "\n",
    "data = load_dataset(DATASET, split='train', token=hf_api_key, cache_dir=cache_dir)\n",
    "print(\"Before filtering, dataset size:\", len(data))\n",
    "data = data.filter(lambda x: \n",
    "    not is_nan_or_none(x['Answer_A_Rate']) and\n",
    "    not is_nan_or_none(x['Answer_B_Rate']) and\n",
    "    not is_nan_or_none(x['Answer_C_Rate']) and\n",
    "    is_nan_or_none(x['Answer_D_Rate']) \n",
    "    )\n",
    "\n",
    "if HAS_CONTENT_DISTRACTORS in [0, 1, 2]:\n",
    "    data = data.filter(lambda x: x['Has_Content_Distractors'] == HAS_CONTENT_DISTRACTORS)\n",
    "\n",
    "# Filter out entries based on length of options\n",
    "if SHORT_OPTIONS_THRESHOLD < 500:\n",
    "    data = data.filter(lambda x: not has_short_options([x['Answer_A'], x['Answer_B'], x['Answer_C'], x['Answer_D']], SHORT_OPTIONS_THRESHOLD))\n",
    "\n",
    "print(\"After filtering, dataset size:\", len(data))"
   ]
  },
  {
   "cell_type": "markdown",
   "id": "4c624008",
   "metadata": {},
   "source": [
    "# Classify retrieved docs per choice"
   ]
  },
  {
   "cell_type": "code",
   "execution_count": 60,
   "id": "7b6aaf45",
   "metadata": {},
   "outputs": [],
   "source": [
    "def print_similarities(similarities, sentences1, sentences2):\n",
    "    for idx_i, sentence1 in enumerate(sentences1):\n",
    "        print(sentence1)\n",
    "        for idx_j, sentence2 in enumerate(sentences2):\n",
    "            print(f\" - {sentence2: <30}: {similarities[idx_i][idx_j]:.4f}\")\n",
    "\n",
    "\n",
    "def classify_docs_per_distractor(row, sentence_bert_model):\n",
    "    docs_per_choice = {}\n",
    "    for key in ['Answer_A', 'Answer_B', 'Answer_C', 'Answer_D']:\n",
    "        if row[key] != \"\":\n",
    "                docs_per_choice[key + '_Docs'] = []\n",
    "    choices_keys = [key[:-5] for key in docs_per_choice.keys()]\n",
    "    choices_content = [row[key] for key in choices_keys if row[key] != \"\"]\n",
    "    embeddings_choices = sentence_bert_model.encode(choices_content)\n",
    "    embeddings_docs = sentence_bert_model.encode(row[RETRIEVED_DOCS_COL_NAME])\n",
    "    similarities = sentence_bert_model.similarity(embeddings_choices, embeddings_docs)\n",
    "\n",
    "    # We now add each doc to the choice with the highest similarity\n",
    "    for i, doc in enumerate(row[RETRIEVED_DOCS_COL_NAME]):\n",
    "        max_sim_index = np.argmax(similarities[:, i])\n",
    "        max_choice = list(docs_per_choice.keys())[max_sim_index]\n",
    "        docs_per_choice[max_choice].append(doc)\n",
    "    \n",
    "    return docs_per_choice"
   ]
  },
  {
   "cell_type": "code",
   "execution_count": 61,
   "id": "b75f44ce",
   "metadata": {},
   "outputs": [
    {
     "name": "stderr",
     "output_type": "stream",
     "text": [
      "  0%|          | 0/396 [00:00<?, ?it/s]"
     ]
    },
    {
     "name": "stderr",
     "output_type": "stream",
     "text": [
      "100%|██████████| 396/396 [00:11<00:00, 33.17it/s]\n"
     ]
    }
   ],
   "source": [
    "column_names = [f\"Answer_{choice}_Docs\" for choice in ['A', 'B', 'C', 'D']]\n",
    "docs_by_choice = {name: [] for name in column_names}\n",
    "\n",
    "for row in tqdm(data):\n",
    "    docs_per_choice_for_row = classify_docs_per_distractor(row, sentence_bert_model)\n",
    "    for name in column_names:\n",
    "        docs_by_choice[name].append(docs_per_choice_for_row.get(name, []))\n",
    "        \n",
    "if column_names[0] in data.column_names:\n",
    "    data = data.remove_columns(column_names)\n",
    "    \n",
    "for name, column_data in docs_by_choice.items():\n",
    "    data = data.add_column(name, column_data)"
   ]
  },
  {
   "cell_type": "code",
   "execution_count": 62,
   "id": "4c30d5a4",
   "metadata": {},
   "outputs": [
    {
     "name": "stdout",
     "output_type": "stream",
     "text": [
      "the movements of our internal organs are controlled by a specific type of muscle. what is the name of this type of muscle?\n",
      "a) smooth\n",
      "b) striated\n",
      "c) cardiac\n",
      " : \n",
      " A: ['Smooth snake It is a non-venomous colubrid species found in northern and central Europe, and as far east as northern Iran. In contrast to many other snakes, their scales are flat (not keeled). This gives the snake a smooth texture to the touch, from which it gets its common name.', 'Smooth muscle Smooth muscle is found in the walls of blood vessels, vessels of the lymphatic system, the urinary bladder, uterus, male and female reproductive tracts, gastrointestinal tract, respiratory tract, most ducts, and a number of other places such as the iris.', 'Smooth muscle Smooth muscle is muscle inside the body and not attached to bones. It is not under conscious control. Its function is to help the inner workings of the body.', 'Smooth endoplasmic reticulum The smooth endoplasmic reticulum, or smooth ER, is found in both animal cells and plant cells.  Smooth ER helps the body make and metabolize fats and steroid hormones.', 'Scriptio continua INNOVAFERTANIMVSMVTATASDICEREFORMASCORPORA\\u200bDICOEPTISNAMVOSMVTASTISETILLAS\\u200bADSPIRATEMEISPRIMAQVE\\u200bABORIGINEMVNDIADMEAPERPETVVMDEDVCITETEMPORACARMEN', 'Stroke Abnormal: One side of face does not move as well as the other (or at all); part of the face looks like it is drooping'] \n",
      " B: ['Silent stroke A silent stroke is a kind of stroke that does not cause symptoms that can be seen in a major stroke such as slurred speech. A person who has had a silent stroke usually does not know it. A silent stroke still causes damage to the brain, and places the person at increased risk for both transient ischemic attack and major stroke in the future.', 'Lóránd Hegyi https://www.centrepompidou.fr/cpv/ressource.action?param.id=FR_R-54e9dad8cd70f05219ac8e66dce3f&param.idSource=FR_P-54e9dad8cd70f05219ac8e66dce3f', 'Katsushika http://katsushika.web.transer.com/bb_url_ej.php?ctw_=sT,eCR-JE,bF,hT,uaHR0cDovL3d3dy5jaXR5LmthdHN1c2hpa2EubGcuanAv,f20120331223220-0,cVVRGLTg=,,', 'Taumatawhakatangihangakoauauotamateaturipukakapikimaungahoronukupokaiwhenuakitanatahu {{DISPLAYTITLE:Taumatawhakatangihangakoauauotamateaturipukakapikimaungahoronukupokaiwhenuakitanatahu}}', \"Zee Bangla Mohona'''Nayantara Netaji SubhasNetajiNijei NayakNil ChanderNilu Hazrar Hatya RahasyaNokshi KanthaPandab GoendaPhirkiPhoolmoniPrajapataye NamahPrapto Bayeshkoder Janya  Premer PhaandeRaadhaRaage AnuraageRajjotok\"] \n",
      " C: ['Heart Sino-Atrial Node → Atria (systole) → Atrio-Ventricular Node → Bundle of His → Bundle branches → Purkinje Fibers → Ventricles (systole)', 'Myocyte There are various specialized forms of myocytes: cardiac, skeletal, and smooth muscle cells. They have different structures. The striated or striped cells of cardiac and skeletal muscles are called muscle fibers.', \"Heart Systole (when the heart squeezes) happens because the muscle cells of the heart gets smaller in size. When they get smaller we also say they contract. Electricity going through the heart makes the cells contract. The electricity starts in the sino-atrial node (acronym SA Node) The SA Node is a group of cells called pacemaker cells in the right atria. These cells start an electrical impulse. This electrical impulse sets the rate and timing at which all cardiac muscle cells contract. This motion is called 'atrial systole'. Once electrical impulse goes through the atrio-ventricular node (AV Node). The AV Node makes the impulse slow down. Slowing down makes the electrical impulses get to the ventricles later. That is what makes the ventricular systole occur after atrial systole, and lets all the blood leave the atria before ventricle contracts (meaning squeeze).\", 'Capillary The capillaries do not have this smooth muscle in their own wall, and so any change in their width is passive.  Any signaling molecules they release (such as endothelin for constriction and nitric oxide for dilation) act on the smooth muscle cells in the walls of nearby, larger vessels, e.g. arterioles.', \"Bradycardia Problems with the heart's electrical system.  There are two atria (upper chambers) in the heart: the right atrium and the left atrium.  For the heart to beat normally, special parts of the right atrium have to send electricity through the heart to make it squeeze out blood.  The electricity has to start in a certain place and pass through a certain route in the heart.  If this does not happen correctly, the heart will not beat correctly.\", 'Cardiomyopathy Restrictive cardiomyopathy (RCM) is the least common cardiomyopathy. The walls of the ventricles are stiff, but may not be thickened, and resist the normal filling of the heart with blood.', 'Cardiac muscle The other types of muscle are the skeletal and smooth muscle. The cells that make up cardiac muscle  have one (74%) or two (24.5%) nuclei. The myocardium forms a thick middle layer between the outer epicardium layer and the inner endocardium layer.', \"Medulla oblongata Together, these two systems control many important things, like how fast the heart beats and how hard it squeezes.  In the cardiac center, there are special nerves that will make the heart beat harder and faster, called excitatory nerves.  There are also inhibitory nerves, which will make the heart beat slower and not as hard.  If a person's blood pressure gets too low, the cardiac center will send a message to the excitatory nerves, telling them to make the heart beat faster and harder.  This raises the blood pressure.  If the blood pressure gets too high, the cardiac center sends a message to the inhibitory nerves, which slow the heart down and make it not beat so hard.  This lowers the blood pressure.  In a healthy person, the cardiac center balances out the signals it sends to these sets of nerves, to keep the blood pressure normal.\", 'Chr 000000000011000011110001111100010000000011110001110000100100001000000110011001100000000000000000000000000000000000000000000111110000001111110011111101111111', 'Myocardial infarction Sometimes, people have \"silent heart attacks.\" These are heart attacks that do not cause any pain. They are more common in elderly people, women, and people with diabetes. In these people, suddenly feeling very tired, or fainting, may be the only sign of a heart attack.', 'Heart The heart has three layers. The outer covering is the pericardium. This is a tough sack that surrounds the heart. The middle layer is the myocardium. This is the heart muscle. The inner layer is the endocardium. This is the thin smooth lining of the chambers of the heart.', 'Heart The order is: atrial systole → ventricular systole → cardiac diastole. When this happens one time, it is called a cardiac cycle.', 'Arrhythmia Arrhythmia (commonly called irregular heartbeat) is the name for a number of conditions, where the heartbeat is not normal. It may be too fast (tachycardia); too slow (bradycardia); or the heart may not beat in its regular rhythm.', 'Ventricular fibrillation When a person is in ventricular fibrillation, the heart does not beat in any kind of normalized pattern. Instead, it quivers and twitches very quickly.', 'Pericardium Pericardium is a thin, conical, fibroelastic sac or a membrane surrounding hearts and its great vessels.', 'Myocyte Cardiomyocytes are the muscle fibres which form the chambers of the heart. They have a single central nucleus. Skeletal muscle fibers help support and move the body. They usually have peripheral nuclei.', 'Ventricular tachycardia Ventricular tachycardia (V-tach or VT) is a type of tachycardia (a fast heart rate).  The heart has four chambers (closed spaces).  The top two are called the atria, and the bottom two are called the ventricles.  When the heart is working normally, electrical signals in the heart tell the to atria squeeze first.  However, in ventricular tachycardia, the ventricles squeeze first.  This happens because the electrical signals that tell the atria to squeeze first are not working.', 'Heart The gross physiology of the cardiovascular system (2nd Ed., 2012) – Robert M. Anderson, M.D. (CC-BY-NC)', 'Ben Breedlove At an early age, Breedlove had been diagnosed with hypertrophic cardiomyopathy (HCM). It is a condition in which the heart muscle becomes thick. Often, only one part of the heart is thicker than the other parts. The thickening can make it harder for blood to leave the heart, forcing the heart to work harder to pump blood. It also can make it harder for the heart to relax and fill with blood.', 'Heart The heart is an organ found in every vertebrate. It is a very strong muscle. It is on the left side of the body in humans and is about the size of a fist. It pumps blood throughout the body. It has regular contractions, or when the heart squeezes the blood out into other parts of the body.', 'Heart disease A person can have heart disease and not feel sick. Some people with heart disease have symptoms. This is when there are changes or pain in the body to show a disease is there. Some symptoms of heart disease are:', 'Cardiac muscle A cardiac muscle (heart muscle) is one of the three main types of muscle in vertebrates. It is involuntary: a person cannot control it consciously. Also, it is a striped muscle in the walls of the heart. It makes up the tissue called the myocardium.', 'Kitakyūshū Graduate School of Life Science and Systems Engineering, Kyushu Institute of Technology(九州工業大学 大学院生命体工学研究科)', 'Heart block In the most serious cases, the heart’s electrical pathways are blocked so badly that electricity cannot travel through the heart.  This means the heart’s electrical signals cannot control how the heart beats, or cannot make the heart beat at all.', 'Heart cancer In a study of 12,487 autopsies performed in Hong Kong seven cardiac tumors were found, most of which were not very harmful. According to Mayo Clinic: \"At Mayo Clinic, on average only one case of heart cancer is seen each year.\"', 'Ventricular tachycardia Ventricular tachycardia can be treated in a few different ways.  Treatment depends on whether the patient still has a pulse.  If the patient is in pulseless ventricular tachycardia, their heart is beating so fast that it cannot squeeze out any blood.', 'Defibrillation Fibrillation is when the heart muscle is contracting, but not in any organized way, and blood is not pumped. Pulseless tachycardia is when the heart is beating too fast to collect any blood to push.', \"Victor Chang Victor Peter Chang  (born Chang Yam Him; 21 November 1936 – 4 July 1991) was an Australian heart surgeon. He has been called a pioneer of modern heart transplantation. He also helped with the development of an artificial heart valve. He worked at St Vincent's Hospital with his team who had high success rates of heart transplants.\", 'Wolff–Parkinson–White syndrome Sudden cardiac death in people with WPW is rare. Some people may experience low blood pressure with WPW.', 'Epicardium Epicardium (heart muscle) is one of the three main layers of the heart wall.   It is the outermost layer of the heart, composed of connective tissue and fat.  The connective tissue secretes a small amount of lubricating fluid into the pericardial cavity.', 'Don Ho Ho was diagnosed with cardiomyopathy in 2005.  He had a pacemaker implanted. He talked with a biotechnology company that dealt with treating heart conditions with adult stem cells. This company was working with Dr. Shoa, cardiac surgeon and one of the first people to work with adult stem cells for heart disease. On December 6, 2005, Ho had his own stem cells put into his heart by Amit Patel and his other doctors in Thailand. The treatment went without problems. Later in the month, Ho said, \"I\\'m feeling much better and I\\'m so happy I came up here to do it.\"', 'Cardiac muscle Coordinated contractions of cardiac muscle cells in the heart force blood out of the atria and ventricles to the blood vessels of the left/body/systemic and right/lungs/pulmonary circulatory systems. This mechanism illustrates systole (contraction) of the heart.', 'Cardiac muscle If a person has a problem with the system that controls the heart, the heart muscle may not beat the way it needs to.  It may beat too slowly to get blood out to the body (this is called bradycardia).  Or it may beat so fast that the heart does not have time to fill with blood and then squeeze the blood out to the body.  This is called tachycardia (there are many kinds).', 'Bradycardia Bradycardia (also called bradyarrhythmia) is a slow heart rate.  In adults, bradycardia is defined as a heart rate that is under 60 beats per minute (bpm) while the person is resting.  Bradycardia is a type of cardiac arrhythmia.', 'Myocyte Smooth muscle cells control involuntary movements such as the peristalsis contractions in the oesophagus and stomach.', 'Congenital heart defect A congenital heart defect (CHD), also known as a congenital heart anomaly and congenital heart disease, is a defect in the structure of the heart or great vessels that happens at birth. A congenital heart defect is seen as a cardiovascular disease. Signs and symptoms depend on the specific type of defect. Symptoms can be seen from not serious to life-threatening. When present, symptoms may include rapid breathing, bluish skin (cyanosis), poor weight gain, and feeling tired. CHD does not cause chest pain.', 'Silent stroke Lacunar infarcts (LACI) are small (0.2 to 15\\xa0mm in diameter) noncortical (does not happen in the cerebral cortex) stroke caused by the blockage of a single penetrating branch of a larger blood vessel that brings blood to the inside parts of the brain including the  white matter. LACIs are usually happen in cases of white matter lesions (WML) which can be seen using computerized tomography (CT scans).', 'Pulse There are normally four heart sounds. Two of them, S1 and S2, can be heard with a stethoscope. Two other sounds, S3 and S4, can not be heard, but they can be seen using a machine called a phonocardiograph.', 'Ventricular fibrillation Ventricular fibrillation (often shortened to VF or V-Fib) is a serious type of irregular heart rhythm or cardiac arrhythmia.  This is a Cardiac arrhythmia that requires immediate shocks with a Defibrillator and Cardio Pulmonary Resuscitation (CPR). If it’s not treated immediately, a patient can suffer brain damage or death. \"Arrhythmia\" means the heart is not beating normally.', \"Heart disease Coronary Artery Disease (acronym CAD) – This is a problem with the blood vessels that deliver blood to the heart muscle. If these blood vessels get very small, or if they become blocked, blood cannot flow through them normally. Since less blood is supplied to the heart muscle, the muscle cannot work at normal capacity. The heart muscle can become sick and weak. Heart muscle can even die if blood flow stops. Blocked arteries in the heart are often caused by smoking, high cholesterol, high blood pressure, diabetes, and inherited traits from parents. All of these problems damage the lining of the heart's blood vessels and make them become narrowed or blocked completely.\", 'Lee Kuan Yew On 13 September 2008, Lee, 84, underwent successful treatment for abnormal heart rhythm (atrial flutter) at Singapore General Hospital, but he was still able to address a philanthropy forum via video link from hospital.', 'Hyperthermia A weak, slow heart rate (this is a sign that the heart cannot beat strongly enough to get blood and oxygen to the body)', 'Silent stroke A silent stroke is different than a transient ischemic attack (TIA). In TIA the symptoms can be seen and may last from a few minutes to 24 hours before getting better. If a person has a TIA there is a bigger chance they may have a major stroke and silent strokes in the future.', \"Heart block This is the most serious type of heart block.  It is also called a complete heart block.  In this type of heart block, no electrical signals reach the heart's ventricles.  This means that the electrical signals cannot make the heart pump blood to the body.\", 'Pericardium The parietal pericardium (thickness 0.8–1\\xa0mm) consists of an outer fibrous connective tissue sac lined by serosa. The serosa comprises unilayer mesothelium (which is responsible for the formation and reabsorption of pericardial fluid) . It is surrounded by variable amount of fatty tissues, particularly in the cardiophrenic angles.', 'February 19 1985 - William J. Schroeder becomes the first person to both receive an artificial heart and be able to leave hospital.', 'Duct Ducts are lined by pavement-type endothelial cells. Outside the endothelium in blood and lymphatic vessels is a layer with no cells called the basement membrane. Outside that are the smooth muscle cells. The smooth muscle squeezes the contents along.', 'Ventricular tachycardia Sometimes doctors cannot find a cause for ventricular tachycardia.  This is called idiopathic ventricular tachycardia.', 'Heart disease Congestive Heart Failure (CHF) – This is a condition that means that the heart is not pumping at normal levels. Two common causes are a weak or sick heart muscle and abnormal heart valves. The valves may not let enough blood through because they are too narrowed. Or the valve may \"leak\" and let blood flow backwards (the wrong direction) inside the heart. When the heart valves do not work normally, the heart muscle has to do extra work and it can become tired.'] \n",
      " D: []\n"
     ]
    }
   ],
   "source": [
    "# Inspect an instance manually to see if it makes sense\n",
    "id = 22\n",
    "print(data[id]['Question_With_Options'], \":\", \"\\n A:\", data[id]['Answer_A_Docs'], \"\\n B:\", data[id]['Answer_B_Docs'], \"\\n C:\", data[id]['Answer_C_Docs'], \"\\n D:\", data[id]['Answer_D_Docs'])"
   ]
  },
  {
   "cell_type": "markdown",
   "id": "526f1d4f",
   "metadata": {},
   "source": [
    "# Calculate Correlation"
   ]
  },
  {
   "cell_type": "code",
   "execution_count": 63,
   "id": "7b01f21b",
   "metadata": {},
   "outputs": [],
   "source": [
    "def calc_correlation(type='pearson'):\n",
    "    simple_list = []\n",
    "    print(type.capitalize(), \"correlation between distractor rates and document lengths(A-D, p-values in between):\")\n",
    "    correlations_with_docs_len = {}\n",
    "\n",
    "    for choice_name in [f\"Answer_{choice}\" for choice in ['A', 'B', 'C', 'D']]:\n",
    "        rates = data[f'{choice_name}_Rate']\n",
    "        doc_lengths = [len(sentence_list) for sentence_list in data[f'{choice_name}_Docs']]\n",
    "        correlation, p = None, None\n",
    "        if type == 'pearson':\n",
    "            correlation, p = pearsonr(rates, doc_lengths)\n",
    "        elif type == 'spearman':\n",
    "            correlation, p = spearmanr(rates, doc_lengths)\n",
    "        \n",
    "        correlations_with_docs_len[choice_name] = (round(correlation,4), round(p,4))\n",
    "        simple_list.append(float(round(correlation,4)))\n",
    "        simple_list.append(float(round(p,4)))\n",
    "        \n",
    "    correlations_string = \"\\t\".join(\n",
    "        [f\"{str(correlation)} {str(p)}\"\n",
    "         for (correlation, p) in correlations_with_docs_len.values()]\n",
    "    )  \n",
    "    print(correlations_string)\n",
    "        \n",
    "    return simple_list"
   ]
  },
  {
   "cell_type": "code",
   "execution_count": 64,
   "id": "eb13c0bc",
   "metadata": {},
   "outputs": [
    {
     "name": "stdout",
     "output_type": "stream",
     "text": [
      "Pearson correlation between distractor rates and document lengths(A-D, p-values in between):\n",
      "-0.0379 0.4519\t-0.0442 0.3801\t0.0256 0.611\tnan nan\n",
      "Spearman correlation between distractor rates and document lengths(A-D, p-values in between):\n",
      "-0.0734 0.1447\t-0.0279 0.5798\t0.0434 0.3896\tnan nan\n"
     ]
    }
   ],
   "source": [
    "all_results = []\n",
    "all_results.extend(calc_correlation('pearson'))\n",
    "all_results.extend(calc_correlation('spearman'))\n",
    "\n",
    "# export to csv\n",
    "df = pd.DataFrame([all_results], columns=[\n",
    "    'Pearson_A_Correlation', 'Pearson_A_p', \n",
    "    'Pearson_B_Correlation', 'Pearson_B_p', \n",
    "    'Pearson_C_Correlation', 'Pearson_C_p', \n",
    "    'Pearson_D_Correlation', 'Pearson_D_p',\n",
    "    'Spearman_A_Correlation', 'Spearman_A_p', \n",
    "    'Spearman_B_Correlation', 'Spearman_B_p', \n",
    "    'Spearman_C_Correlation', 'Spearman_C_p', \n",
    "    'Spearman_D_Correlation', 'Spearman_D_p'\n",
    "])\n",
    "df.to_csv('last_correlations.csv', index=False)"
   ]
  }
 ],
 "metadata": {
  "kernelspec": {
   "display_name": "distractor_preference_env",
   "language": "python",
   "name": "python3"
  },
  "language_info": {
   "codemirror_mode": {
    "name": "ipython",
    "version": 3
   },
   "file_extension": ".py",
   "mimetype": "text/x-python",
   "name": "python",
   "nbconvert_exporter": "python",
   "pygments_lexer": "ipython3",
   "version": "3.13.1"
  }
 },
 "nbformat": 4,
 "nbformat_minor": 5
}
