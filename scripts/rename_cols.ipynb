{
 "cells": [
  {
   "cell_type": "code",
   "execution_count": 13,
   "id": "687fcc34",
   "metadata": {},
   "outputs": [],
   "source": [
    "from datasets import load_dataset"
   ]
  },
  {
   "cell_type": "code",
   "execution_count": 14,
   "id": "156dd367",
   "metadata": {},
   "outputs": [],
   "source": [
    "DATASET = 'LeoZotos/bio_full'"
   ]
  },
  {
   "cell_type": "code",
   "execution_count": 15,
   "id": "8b9ca470",
   "metadata": {},
   "outputs": [],
   "source": [
    "hf_api_key = \"\"\n",
    "with open(\"../tokens/HF_TOKEN.txt\", \"r\") as f:\n",
    "    hf_api_key = f.read().strip()"
   ]
  },
  {
   "cell_type": "code",
   "execution_count": 16,
   "id": "94340a22",
   "metadata": {},
   "outputs": [
    {
     "name": "stderr",
     "output_type": "stream",
     "text": [
      "Generating train split: 100%|██████████| 778/778 [00:00<00:00, 7975.46 examples/s]"
     ]
    },
    {
     "name": "stdout",
     "output_type": "stream",
     "text": [
      "Column names: ['id', 'Question', 'Answer_A', 'Answer_B', 'Answer_C', 'Answer_D', 'Answer_E', 'Answer_F', 'Answer_G', 'Answer_H', 'Answer_I', 'Answer_J', 'Answer_Key', 'Answer_Text', 'Question_With_Options', 'Only_Options', 'Correct_Answer_Rate', 'Answer_A_Rate', 'Answer_B_Rate', 'Answer_C_Rate', 'Answer_D_Rate', 'Emb', 'Emb_Only_Options', 'Relevant_Docs_Simple_20', 'Relevant_Docs_En_20', 'Relevant_Docs_En_Only_Options_20', 'Relevant_Docs_Simple_Only_Options20']\n"
     ]
    },
    {
     "name": "stderr",
     "output_type": "stream",
     "text": [
      "\n"
     ]
    }
   ],
   "source": [
    "data = load_dataset(DATASET, split=\"train\", token=hf_api_key)\n",
    "print(\"Column names:\", data.column_names)"
   ]
  },
  {
   "cell_type": "code",
   "execution_count": 17,
   "id": "aaf54f3f",
   "metadata": {},
   "outputs": [],
   "source": [
    "column_mapping = {\n",
    "    'Relevant_Docs_Simple_Only_Options20': 'Relevant_Docs_Simple_Only_Options_20',\n",
    "    # 'Relevant_Docs_Simple': 'Relevant_Docs_Simple_20',\n",
    "    # 'Relevant_Docs_en': 'Relevant_Docs_En_20',\n",
    "    # 'only_choices_text': 'Only_Options',\n",
    "    # 'emb_only_choices': 'Emb_Only_Options',\n",
    "    # 'Relevant_Docs_en_only_choices': 'Relevant_Docs_En_Only_Options_20',\n",
    "    }\n",
    "\n",
    "# Apply the renaming\n",
    "data = data.rename_columns(column_mapping)"
   ]
  },
  {
   "cell_type": "code",
   "execution_count": 18,
   "id": "cf32ffe9",
   "metadata": {},
   "outputs": [
    {
     "name": "stdout",
     "output_type": "stream",
     "text": [
      "Column names: ['id', 'Question', 'Answer_A', 'Answer_B', 'Answer_C', 'Answer_D', 'Answer_E', 'Answer_F', 'Answer_G', 'Answer_H', 'Answer_I', 'Answer_J', 'Answer_Key', 'Answer_Text', 'Question_With_Options', 'Only_Options', 'Correct_Answer_Rate', 'Answer_A_Rate', 'Answer_B_Rate', 'Answer_C_Rate', 'Answer_D_Rate', 'Emb', 'Emb_Only_Options', 'Relevant_Docs_Simple_20', 'Relevant_Docs_En_20', 'Relevant_Docs_En_Only_Options_20', 'Relevant_Docs_Simple_Only_Options_20']\n"
     ]
    }
   ],
   "source": [
    "# missing 'Relevant_Docs_Simple_Only_Choices_20', 'Relevant_Docs_En_Only_Choices_20'\n",
    "print(\"Column names:\", data.column_names)"
   ]
  },
  {
   "cell_type": "code",
   "execution_count": 19,
   "id": "d70acad5",
   "metadata": {},
   "outputs": [
    {
     "name": "stdout",
     "output_type": "stream",
     "text": [
      "Column names: ['id', 'Question', 'Answer_A', 'Answer_B', 'Answer_C', 'Answer_D', 'Answer_E', 'Answer_F', 'Answer_G', 'Answer_H', 'Answer_I', 'Answer_J', 'Answer_Key', 'Answer_Text', 'Question_With_Options', 'Only_Options', 'Correct_Answer_Rate', 'Answer_A_Rate', 'Answer_B_Rate', 'Answer_C_Rate', 'Answer_D_Rate', 'Emb', 'Emb_Only_Options', 'Relevant_Docs_Simple_20', 'Relevant_Docs_En_20', 'Relevant_Docs_Simple_Only_Options_20', 'Relevant_Docs_En_Only_Options_20']\n"
     ]
    }
   ],
   "source": [
    "# ## Reorder columns\n",
    "new_order = ['id', 'Question', 'Answer_A', 'Answer_B', 'Answer_C', 'Answer_D', 'Answer_E', 'Answer_F', 'Answer_G', 'Answer_H', 'Answer_I', 'Answer_J', 'Answer_Key', 'Answer_Text', 'Question_With_Options', 'Only_Options', 'Correct_Answer_Rate', 'Answer_A_Rate', 'Answer_B_Rate', 'Answer_C_Rate', 'Answer_D_Rate', 'Emb', 'Emb_Only_Options', 'Relevant_Docs_Simple_20', 'Relevant_Docs_En_20', 'Relevant_Docs_Simple_Only_Options_20', 'Relevant_Docs_En_Only_Options_20']\n",
    "\n",
    "reordered_ds = data.select_columns(new_order)\n",
    "\n",
    "print(\"Column names:\", reordered_ds.column_names)"
   ]
  },
  {
   "cell_type": "code",
   "execution_count": 20,
   "id": "07e8609a",
   "metadata": {},
   "outputs": [
    {
     "name": "stderr",
     "output_type": "stream",
     "text": [
      "Uploading the dataset shards:   0%|          | 0/1 [00:00<?, ?it/s]"
     ]
    },
    {
     "name": "stderr",
     "output_type": "stream",
     "text": [
      "Creating parquet from Arrow format: 100%|██████████| 1/1 [00:00<00:00,  6.87ba/s]\n",
      "Uploading the dataset shards: 100%|██████████| 1/1 [00:02<00:00,  2.77s/it]\n"
     ]
    },
    {
     "data": {
      "text/plain": [
       "CommitInfo(commit_url='https://huggingface.co/datasets/LeoZotos/bio_full/commit/9d91c6032f12097cb9d6d8571e5b44a7f139233d', commit_message='Columns renamed', commit_description='', oid='9d91c6032f12097cb9d6d8571e5b44a7f139233d', pr_url=None, repo_url=RepoUrl('https://huggingface.co/datasets/LeoZotos/bio_full', endpoint='https://huggingface.co', repo_type='dataset', repo_id='LeoZotos/bio_full'), pr_revision=None, pr_num=None)"
      ]
     },
     "execution_count": 20,
     "metadata": {},
     "output_type": "execute_result"
    }
   ],
   "source": [
    "reordered_ds.push_to_hub(\n",
    "    repo_id=DATASET,\n",
    "    commit_message=\"Columns renamed\",\n",
    "    token=hf_api_key,\n",
    "    private=True\n",
    ")"
   ]
  }
 ],
 "metadata": {
  "kernelspec": {
   "display_name": "distractor_preference_env",
   "language": "python",
   "name": "python3"
  },
  "language_info": {
   "codemirror_mode": {
    "name": "ipython",
    "version": 3
   },
   "file_extension": ".py",
   "mimetype": "text/x-python",
   "name": "python",
   "nbconvert_exporter": "python",
   "pygments_lexer": "ipython3",
   "version": "3.13.1"
  }
 },
 "nbformat": 4,
 "nbformat_minor": 5
}
