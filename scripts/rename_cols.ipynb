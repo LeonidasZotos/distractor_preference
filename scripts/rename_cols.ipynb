{
 "cells": [
  {
   "cell_type": "code",
   "execution_count": null,
   "id": "687fcc34",
   "metadata": {},
   "outputs": [],
   "source": [
    "from datasets import load_dataset"
   ]
  },
  {
   "cell_type": "code",
   "execution_count": null,
   "id": "156dd367",
   "metadata": {},
   "outputs": [],
   "source": [
    "DATASET = 'LeoZotos/immu_full'"
   ]
  },
  {
   "cell_type": "code",
   "execution_count": null,
   "id": "8b9ca470",
   "metadata": {},
   "outputs": [],
   "source": [
    "hf_api_key = \"\"\n",
    "with open(\"../tokens/HF_TOKEN.txt\", \"r\") as f:\n",
    "    hf_api_key = f.read().strip()"
   ]
  },
  {
   "cell_type": "code",
   "execution_count": null,
   "id": "94340a22",
   "metadata": {},
   "outputs": [],
   "source": [
    "data = load_dataset(DATASET, split=\"train\", token=hf_api_key)\n",
    "print(\"Column names:\", data.column_names)"
   ]
  },
  {
   "cell_type": "code",
   "execution_count": null,
   "id": "aaf54f3f",
   "metadata": {},
   "outputs": [],
   "source": [
    "column_mapping = {\n",
    "    'Relevant_Docs_En_Only_Choices_20': 'Relevant_Docs_En_Only_Options_20',\n",
    "    }\n",
    "\n",
    "# Apply the renaming\n",
    "data = data.rename_columns(column_mapping)"
   ]
  },
  {
   "cell_type": "code",
   "execution_count": null,
   "id": "cf32ffe9",
   "metadata": {},
   "outputs": [],
   "source": [
    "# missing 'Relevant_Docs_Simple_Only_Choices_20', 'Relevant_Docs_En_Only_Choices_20'\n",
    "print(\"Column names:\", data.column_names)"
   ]
  },
  {
   "cell_type": "code",
   "execution_count": null,
   "id": "d70acad5",
   "metadata": {},
   "outputs": [],
   "source": [
    "# # ## Reorder columns\n",
    "# new_order = ['id', 'Question', 'Answer_A', 'Answer_B', 'Answer_C', 'Answer_D', 'Answer_E', 'Answer_F', 'Answer_G', 'Answer_H', 'Answer_I', 'Answer_J', 'Answer_Key', 'Answer_Text', 'Question_With_Options', 'Only_Options', 'Correct_Answer_Rate', 'Answer_A_Rate', 'Answer_B_Rate', 'Answer_C_Rate', 'Answer_D_Rate', 'Emb', 'Emb_Only_Options', 'Relevant_Docs_Simple_20', 'Relevant_Docs_En_20', 'Relevant_Docs_Simple_Only_Options_20', 'Relevant_Docs_En_Only_Options_20']\n",
    "\n",
    "# reordered_ds = data.select_columns(new_order)\n",
    "\n",
    "# print(\"Column names:\", reordered_ds.column_names)"
   ]
  },
  {
   "cell_type": "code",
   "execution_count": null,
   "id": "07e8609a",
   "metadata": {},
   "outputs": [],
   "source": [
    "data.push_to_hub(\n",
    "    repo_id=DATASET,\n",
    "    commit_message=\"Column renamed\",\n",
    "    token=hf_api_key,\n",
    "    private=True\n",
    ")"
   ]
  }
 ],
 "metadata": {
  "kernelspec": {
   "display_name": "distractor_preference_env",
   "language": "python",
   "name": "python3"
  },
  "language_info": {
   "codemirror_mode": {
    "name": "ipython",
    "version": 3
   },
   "file_extension": ".py",
   "mimetype": "text/x-python",
   "name": "python",
   "nbconvert_exporter": "python",
   "pygments_lexer": "ipython3",
   "version": "3.13.1"
  }
 },
 "nbformat": 4,
 "nbformat_minor": 5
}
