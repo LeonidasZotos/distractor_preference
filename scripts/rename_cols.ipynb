{
 "cells": [
  {
   "cell_type": "code",
   "execution_count": 1,
   "id": "687fcc34",
   "metadata": {},
   "outputs": [
    {
     "name": "stderr",
     "output_type": "stream",
     "text": [
      "/home4/p285811/distractor_preference/distractor_preference_env/lib/python3.13/site-packages/tqdm/auto.py:21: TqdmWarning: IProgress not found. Please update jupyter and ipywidgets. See https://ipywidgets.readthedocs.io/en/stable/user_install.html\n",
      "  from .autonotebook import tqdm as notebook_tqdm\n"
     ]
    }
   ],
   "source": [
    "from datasets import load_dataset"
   ]
  },
  {
   "cell_type": "code",
   "execution_count": 2,
   "id": "156dd367",
   "metadata": {},
   "outputs": [],
   "source": [
    "DATASET = 'LeoZotos/bio_full'"
   ]
  },
  {
   "cell_type": "code",
   "execution_count": 3,
   "id": "8b9ca470",
   "metadata": {},
   "outputs": [],
   "source": [
    "hf_api_key = \"\"\n",
    "with open(\"../tokens/HF_TOKEN.txt\", \"r\") as f:\n",
    "    hf_api_key = f.read().strip()"
   ]
  },
  {
   "cell_type": "code",
   "execution_count": 4,
   "id": "94340a22",
   "metadata": {},
   "outputs": [
    {
     "name": "stdout",
     "output_type": "stream",
     "text": [
      "Column names: ['id', 'Question', 'Answer_A', 'Answer_B', 'Answer_C', 'Answer_D', 'Answer_E', 'Answer_F', 'Answer_G', 'Answer_H', 'Answer_I', 'Answer_J', 'Answer_Key', 'Answer_Text', 'Question_With_Options', 'Correct_Answer_Rate', 'Answer_A_Rate', 'emb']\n"
     ]
    }
   ],
   "source": [
    "data = load_dataset(DATASET, split=\"train\", token=hf_api_key)\n",
    "print(\"Column names:\", data.column_names)"
   ]
  },
  {
   "cell_type": "code",
   "execution_count": 8,
   "id": "b66cbe16",
   "metadata": {},
   "outputs": [
    {
     "name": "stdout",
     "output_type": "stream",
     "text": [
      "['id', 'Question', 'Answer_A', 'Answer_B', 'Answer_C', 'Answer_D', 'Answer_E', 'Answer_F', 'Answer_G', 'Answer_H', 'Answer_I', 'Answer_J', 'Answer_Key', 'Answer_Text', 'Question_With_Options', 'Correct_Answer_Rate', 'Answer_A_Rate', 'emb', 'Answer_B_Rate', 'Answer_C_Rate', 'Answer_D_Rate']\n"
     ]
    }
   ],
   "source": [
    "print(data.column_names)"
   ]
  },
  {
   "cell_type": "code",
   "execution_count": 9,
   "id": "d70acad5",
   "metadata": {},
   "outputs": [
    {
     "name": "stdout",
     "output_type": "stream",
     "text": [
      "Column names: ['id', 'Question', 'Answer_A', 'Answer_B', 'Answer_C', 'Answer_D', 'Answer_E', 'Answer_F', 'Answer_G', 'Answer_H', 'Answer_I', 'Answer_J', 'Answer_Key', 'Answer_Text', 'Question_With_Options', 'Correct_Answer_Rate', 'Answer_A_Rate', 'Answer_B_Rate', 'Answer_C_Rate', 'Answer_D_Rate', 'emb']\n"
     ]
    }
   ],
   "source": [
    "# # ## Reorder columns\n",
    "# new_order = ['id', 'Question', 'Answer_A', 'Answer_B', 'Answer_C', 'Answer_D', 'Answer_E', 'Answer_F', 'Answer_G', 'Answer_H', 'Answer_I', 'Answer_J', 'Answer_Key', 'Answer_Text', 'Question_With_Options', 'Correct_Answer_Rate', 'Answer_A_Rate', 'Answer_B_Rate', 'Answer_C_Rate', 'Answer_D_Rate', 'emb']\n",
    "# reordered_ds = data.select_columns(new_order)\n",
    "\n",
    "# print(\"Column names:\", reordered_ds.column_names)"
   ]
  },
  {
   "cell_type": "code",
   "execution_count": 10,
   "id": "07e8609a",
   "metadata": {},
   "outputs": [
    {
     "name": "stderr",
     "output_type": "stream",
     "text": [
      "Creating parquet from Arrow format: 100%|██████████| 1/1 [00:00<00:00, 30.69ba/s]\n",
      "Uploading the dataset shards: 100%|██████████| 1/1 [00:01<00:00,  1.49s/it]\n"
     ]
    },
    {
     "data": {
      "text/plain": [
       "CommitInfo(commit_url='https://huggingface.co/datasets/LeoZotos/bio_full/commit/e662a1570030481d0b80fd989d9317025317d57b', commit_message='columns renamed', commit_description='', oid='e662a1570030481d0b80fd989d9317025317d57b', pr_url=None, repo_url=RepoUrl('https://huggingface.co/datasets/LeoZotos/bio_full', endpoint='https://huggingface.co', repo_type='dataset', repo_id='LeoZotos/bio_full'), pr_revision=None, pr_num=None)"
      ]
     },
     "execution_count": 10,
     "metadata": {},
     "output_type": "execute_result"
    }
   ],
   "source": [
    "data.push_to_hub(\n",
    "    repo_id=DATASET,\n",
    "    commit_message=\"columns renamed\",\n",
    "    token=hf_api_key,\n",
    "    private=True\n",
    ")"
   ]
  }
 ],
 "metadata": {
  "kernelspec": {
   "display_name": "distractor_preference_env",
   "language": "python",
   "name": "python3"
  },
  "language_info": {
   "codemirror_mode": {
    "name": "ipython",
    "version": 3
   },
   "file_extension": ".py",
   "mimetype": "text/x-python",
   "name": "python",
   "nbconvert_exporter": "python",
   "pygments_lexer": "ipython3",
   "version": "3.13.1"
  }
 },
 "nbformat": 4,
 "nbformat_minor": 5
}
