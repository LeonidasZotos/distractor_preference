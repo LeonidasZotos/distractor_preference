{
 "cells": [
  {
   "cell_type": "code",
   "execution_count": 1,
   "id": "687fcc34",
   "metadata": {},
   "outputs": [
    {
     "name": "stderr",
     "output_type": "stream",
     "text": [
      "/home4/p285811/distractor_preference/distractor_preference_env/lib/python3.13/site-packages/tqdm/auto.py:21: TqdmWarning: IProgress not found. Please update jupyter and ipywidgets. See https://ipywidgets.readthedocs.io/en/stable/user_install.html\n",
      "  from .autonotebook import tqdm as notebook_tqdm\n"
     ]
    }
   ],
   "source": [
    "from datasets import load_dataset"
   ]
  },
  {
   "cell_type": "code",
   "execution_count": 2,
   "id": "156dd367",
   "metadata": {},
   "outputs": [],
   "source": [
    "DATASET = 'LeoZotos/usmle_full'"
   ]
  },
  {
   "cell_type": "code",
   "execution_count": 4,
   "id": "94340a22",
   "metadata": {},
   "outputs": [
    {
     "name": "stdout",
     "output_type": "stream",
     "text": [
      "Column names: ['id', 'Question', 'Answer_A', 'Answer_B', 'Answer_C', 'Answer_D', 'Answer_E', 'Answer_F', 'Answer_G', 'Answer_H', 'Answer_I', 'Answer_J', 'Answer_Key', 'Answer_Text', 'Question_With_Options', 'Correct_Answer_Rate', 'emb', 'Relevant_Docs_en', 'only_choices_text', 'emb_only_choices', 'Relevant_Docs_en_only_choices']\n"
     ]
    }
   ],
   "source": [
    "data = load_dataset(DATASET, split=\"train\")\n",
    "print(\"Column names:\", data.column_names)"
   ]
  },
  {
   "cell_type": "code",
   "execution_count": 5,
   "id": "aaf54f3f",
   "metadata": {},
   "outputs": [],
   "source": [
    "column_mapping = {\n",
    "    'emb': 'Emb',\n",
    "    'only_choices_text': 'Only_Options',\n",
    "    'emb_only_choices': 'Emb_Only_Options',\n",
    "    }\n",
    "\n",
    "# Apply the renaming\n",
    "data = data.rename_columns(column_mapping)"
   ]
  },
  {
   "cell_type": "code",
   "execution_count": 6,
   "id": "d0649fe6",
   "metadata": {},
   "outputs": [],
   "source": [
    "data = data.remove_columns(['Relevant_Docs_en', 'Relevant_Docs_en_only_choices'])"
   ]
  },
  {
   "cell_type": "code",
   "execution_count": 7,
   "id": "cf32ffe9",
   "metadata": {},
   "outputs": [
    {
     "name": "stdout",
     "output_type": "stream",
     "text": [
      "Column names: ['id', 'Question', 'Answer_A', 'Answer_B', 'Answer_C', 'Answer_D', 'Answer_E', 'Answer_F', 'Answer_G', 'Answer_H', 'Answer_I', 'Answer_J', 'Answer_Key', 'Answer_Text', 'Question_With_Options', 'Correct_Answer_Rate', 'Emb', 'Only_Options', 'Emb_Only_Options']\n"
     ]
    }
   ],
   "source": [
    "# missing 'Relevant_Docs_Simple_Only_Choices_20', 'Relevant_Docs_En_Only_Choices_20'\n",
    "print(\"Column names:\", data.column_names)"
   ]
  },
  {
   "cell_type": "code",
   "execution_count": 8,
   "id": "d70acad5",
   "metadata": {},
   "outputs": [],
   "source": [
    "# # ## Reorder columns\n",
    "# new_order = ['id', 'Question', 'Answer_A', 'Answer_B', 'Answer_C', 'Answer_D', 'Answer_E', 'Answer_F', 'Answer_G', 'Answer_H', 'Answer_I', 'Answer_J', 'Answer_Key', 'Answer_Text', 'Question_With_Options', 'Only_Options', 'Correct_Answer_Rate', 'Answer_A_Rate', 'Answer_B_Rate', 'Answer_C_Rate', 'Answer_D_Rate', 'Emb', 'Emb_Only_Options', 'Relevant_Docs_Simple_20', 'Relevant_Docs_En_20', 'Relevant_Docs_Simple_Only_Options_20', 'Relevant_Docs_En_Only_Options_20']\n",
    "\n",
    "# reordered_ds = data.select_columns(new_order)\n",
    "\n",
    "# print(\"Column names:\", reordered_ds.column_names)"
   ]
  },
  {
   "cell_type": "code",
   "execution_count": 9,
   "id": "07e8609a",
   "metadata": {},
   "outputs": [
    {
     "name": "stderr",
     "output_type": "stream",
     "text": [
      "Creating parquet from Arrow format: 100%|██████████| 1/1 [00:00<00:00, 17.56ba/s]\n",
      "Processing Files (0 / 0)                : |          |  0.00B /  0.00B            \n",
      "\u001b[A\n",
      "Processing Files (0 / 1)                :  97%|█████████▋| 3.47MB / 3.58MB, 8.69MB/s  \n",
      "\u001b[A\n",
      "Processing Files (1 / 1)                : 100%|██████████| 3.58MB / 3.58MB, 4.48MB/s  \n",
      "\u001b[A\n",
      "\u001b[A\n",
      "Processing Files (1 / 1)                : 100%|██████████| 3.58MB / 3.58MB, 2.99MB/s  \n",
      "New Data Upload                         : 100%|██████████|  108kB /  108kB, 90.4kB/s  \n",
      "                                        : 100%|██████████| 3.58MB / 3.58MB            \n",
      "Uploading the dataset shards: 100%|██████████| 1/1 [00:02<00:00,  2.61s/ shards]\n"
     ]
    },
    {
     "data": {
      "text/plain": [
       "CommitInfo(commit_url='https://huggingface.co/datasets/LeoZotos/usmle_full/commit/ba3108a54657173cec4d4f8542b66fe271b6c73b', commit_message='Column renamed', commit_description='', oid='ba3108a54657173cec4d4f8542b66fe271b6c73b', pr_url=None, repo_url=RepoUrl('https://huggingface.co/datasets/LeoZotos/usmle_full', endpoint='https://huggingface.co', repo_type='dataset', repo_id='LeoZotos/usmle_full'), pr_revision=None, pr_num=None)"
      ]
     },
     "execution_count": 9,
     "metadata": {},
     "output_type": "execute_result"
    }
   ],
   "source": [
    "data.push_to_hub(\n",
    "    repo_id=DATASET,\n",
    "    commit_message=\"Column renamed\",\n",
    "    private=True\n",
    ")"
   ]
  }
 ],
 "metadata": {
  "kernelspec": {
   "display_name": "distractor_preference_env (3.13.1)",
   "language": "python",
   "name": "python3"
  },
  "language_info": {
   "codemirror_mode": {
    "name": "ipython",
    "version": 3
   },
   "file_extension": ".py",
   "mimetype": "text/x-python",
   "name": "python",
   "nbconvert_exporter": "python",
   "pygments_lexer": "ipython3",
   "version": "3.13.1"
  }
 },
 "nbformat": 4,
 "nbformat_minor": 5
}
