{
 "cells": [
  {
   "cell_type": "code",
   "execution_count": null,
   "id": "7e4c4215",
   "metadata": {},
   "outputs": [
    {
     "name": "stderr",
     "output_type": "stream",
     "text": [
      "/home4/p285811/distractor_preference/distractor_preference_env/lib/python3.13/site-packages/tqdm/auto.py:21: TqdmWarning: IProgress not found. Please update jupyter and ipywidgets. See https://ipywidgets.readthedocs.io/en/stable/user_install.html\n",
      "  from .autonotebook import tqdm as notebook_tqdm\n"
     ]
    }
   ],
   "source": [
    "import os\n",
    "from datasets import load_dataset\n",
    "import torch\n",
    "from tqdm import tqdm\n",
    "\n",
    "os.environ['HF_HOME'] = '/scratch/' + str(open('../tokens/HPC_ACCOUNT_ID.txt', 'r').read())\n",
    "cache_dir = '/scratch/' + str(open('../tokens/HPC_ACCOUNT_ID.txt', 'r').read()) + '/cache'"
   ]
  },
  {
   "cell_type": "code",
   "execution_count": 3,
   "id": "e06b94b6",
   "metadata": {},
   "outputs": [],
   "source": [
    "hf_api_key = \"\"\n",
    "with open(\"../tokens/HF_TOKEN.txt\", \"r\") as f:\n",
    "    hf_api_key = f.read().strip()\n",
    "    \n",
    "device = torch.device('cuda' if torch.cuda.is_available() else 'cpu')"
   ]
  },
  {
   "cell_type": "code",
   "execution_count": 6,
   "id": "7b36fc22",
   "metadata": {},
   "outputs": [],
   "source": [
    "def retrieve_relevant_docs(question_set, passages, batch_size = 1000): \n",
    "    \"\"\"Retrieves the top k relevant documents for each question. Reduce batch_size if out-of-memory/process is killed\"\"\"\n",
    "    question_embs = torch.tensor(question_set['emb'], dtype=torch.bfloat16).to(device)\n",
    "    \n",
    "    all_scores = torch.tensor([[] for _ in range(len(question_set))], dtype=torch.bfloat16).to(device)\n",
    "    all_doc = [[] for _ in range(len(question_set))]\n",
    "\n",
    "    # Do retrieval. Reduce batch_size if out-of-memory\n",
    "    tmp_doc = []\n",
    "    tmp_emb = []\n",
    "    for passage_id, passage in enumerate(tqdm(passages)):\n",
    "        tmp_emb.append(passage['emb'])\n",
    "        tmp_doc.append({\"title\": passage['title'], \"text\": passage['text']})\n",
    "\n",
    "        if ((passage_id+1) % batch_size == 0) or (passage_id+1) == len(passages):\n",
    "            passage_emb = torch.tensor(tmp_emb, dtype=torch.bfloat16).to(device)\n",
    "            dot_scores = torch.mm(question_embs, passage_emb.T)\n",
    "            all_scores = torch.cat((all_scores, dot_scores), 1) \n",
    "            all_doc = [i + tmp_doc for i in all_doc]\n",
    "            all_scores, top_k_hits = torch.topk(all_scores, 20)\n",
    "            all_doc = [[all_doc[idx][j] for j in i] for idx, i in enumerate(top_k_hits)]\n",
    "\n",
    "            tmp_doc = []\n",
    "            tmp_emb = []\n",
    "\n",
    "    relevant_docs_combined = []\n",
    "    for i in range(len(all_doc)):\n",
    "        relevant_docs_combined.append([doc['title'] + \" \" + doc['text'] for doc in all_doc[i]])\n",
    "    \n",
    "    return relevant_docs_combined"
   ]
  },
  {
   "cell_type": "code",
   "execution_count": null,
   "id": "93df0b7a",
   "metadata": {},
   "outputs": [
    {
     "name": "stderr",
     "output_type": "stream",
     "text": [
      "Generating train split: 100%|██████████| 843/843 [00:00<00:00, 27701.99 examples/s]\n",
      "Generating train split: 100%|██████████| 646424/646424 [00:08<00:00, 79052.17 examples/s]\n",
      "100%|██████████| 646424/646424 [09:24<00:00, 1144.83it/s]\n",
      "Creating parquet from Arrow format: 100%|██████████| 1/1 [00:00<00:00, 28.47ba/s]\n",
      "Uploading the dataset shards: 100%|██████████| 1/1 [00:01<00:00,  1.25s/it]\n"
     ]
    },
    {
     "data": {
      "text/plain": [
       "CommitInfo(commit_url='https://huggingface.co/datasets/LeoZotos/immu_full/commit/967e13cfe8d94b796e42251b0f471225ff8a290e', commit_message='Added relevant documents from Wiki Simple', commit_description='', oid='967e13cfe8d94b796e42251b0f471225ff8a290e', pr_url=None, repo_url=RepoUrl('https://huggingface.co/datasets/LeoZotos/immu_full', endpoint='https://huggingface.co', repo_type='dataset', repo_id='LeoZotos/immu_full'), pr_revision=None, pr_num=None)"
      ]
     },
     "execution_count": 7,
     "metadata": {},
     "output_type": "execute_result"
    }
   ],
   "source": [
    "question_set = load_dataset(\"LeoZotos/\" + \"immu\" + \"_full\", split='train', token = hf_api_key, cache_dir=cache_dir)\n",
    "\n",
    "passages = load_dataset(\"Cohere/wikipedia-2023-11-embed-multilingual-v3\", 'simple', split=\"train\", cache_dir=cache_dir, token=hf_api_key)\n",
    "\n",
    "relevant_docs = retrieve_relevant_docs(question_set, passages)\n",
    "\n",
    "question_set = question_set.add_column(\"relevant_docs\" + \"_\" + 'simple', relevant_docs)\n",
    "\n",
    "# upload to hf\n",
    "question_set.push_to_hub(\n",
    "    repo_id=\"LeoZotos/immu_full\",\n",
    "    commit_message=\"Added relevant documents from Wiki Simple\",\n",
    "    token=hf_api_key,\n",
    "    private=True\n",
    ")"
   ]
  },
  {
   "cell_type": "code",
   "execution_count": 10,
   "id": "6a4f5e61",
   "metadata": {},
   "outputs": [
    {
     "name": "stdout",
     "output_type": "stream",
     "text": [
      "Severe Covid19 can be treated with covalescent serum of people who cleared the infection with SARS-CoV-2 successfully.  What does this treatment resemble?\n",
      "A) Passive vaccination\n",
      "B) Active vaccination\n",
      "C) Blood transfusion\n",
      "D) CAR-T therapy\n",
      "\n",
      "-----\n",
      "['Severe acute respiratory syndrome coronavirus 2 There are no fixed cures for the treatment of COVID-19,  but there are various drugs that have been approved for use such as Hydroxychloroquine and Remdesivir which are detailed below. Other antiviral drugs, interferon therapy and combination of anti-viral and interferons are also being experimented on to get the best possible outcome for patients. These treatments are used to reduce the symptoms and to keep the patients comfortable.', 'COVID-19 pandemic Since there is no exact cure for Covid-19, treatment has focused on treating the symptoms of the disease such as giving oxygen and using machines to aid breathing, giving pain killers to relieve pain, supportive treatment such as giving fluids, food and drugs to combat other symptoms and diseases that affect the person at the same time. Doctors have tried different medicines to see if they help in treatment such as colchicine, systemic corticosteroids (particularly dexamethasone), interleukin-6 receptor antagonists (such as tocilizumab), and Janus kinase inhibitors (such as baricitinib) have been seen to reduce mortality and have other benefits in patients with severe covid-19, such as reducing the severity of the disease and reducing the length of hospital stay.', 'Remdesivir As of 2020, remdesivir is being tested as a specific treatment for COVID-19. It is being used for the sickest of patients during the pandemic. It may shorten the time it takes to recover from the infection. Treatment is given by injection into a vein.', 'Sepsis Society of Critical Care Medicine  Surviving Sepsis Campaign Guidelines for management of severe sepsis and septic shock (and other guidelines)', 'Variants of SARS-CoV-2 Severe acute respiratory syndrome coronavirus 2 (SARS-CoV-2), the virus that causes coronavirus disease 2019 (COVID-19), has a lot of variants. Some of them are important because of increased transmission and vaccines being less effective on them. This article discusses relevant variants of SARS-CoV-2 and mutations in these variants.', 'COVID-19 testing As isolating replication-competent virus lowers, anti-SARS-CoV-2 IgM and IgG can be found in an increasing number of persons recovering from infection.', 'Coronavirus Severe acute respiratory syndrome coronavirus 2, which causes the disease coronavirus disease 2019 and is the cause of the COVID-19 pandemic (formerly referred as the \"2019–20 coronavirus outbreak\")', 'Severe acute respiratory syndrome coronavirus 2 SARS coronavirus 2 (SARS-CoV-2) is a positive-sense, single-stranded RNA coronavirus which causes the disease COVID-19. It used to be known as 2019 novel coronavirus (2019-nCoV) by the World Health Organization (WHO).', 'COVID-19 vaccine A COVID-19 vaccine is any of the vaccines used against COVID-19 (a disease caused by the SARS-CoV-2 virus). In July 2020, more than 150 vaccines were being developed in different laboratories. Two mRNA vaccines, one by Pfizer and one by Moderna, were approved late in 2020. Both are over 90% effective. A few vaccines also went into use in early 2021.', 'COVID-19 testing COVID-19 testing can help find the SARS-CoV-2 virus. There are two types of test; one can find the virus (i.e. Polymerase chain reaction, also called PCR) and the other that can find antibodies produced in response to infection.', 'Long COVID Some people feel better in a few days or weeks, and most people with long COVID will make a full recovery within 12 weeks.', 'COVID-19 A study from a British company called Synairgen showed that some patients with mild COVID-19 who took interferon beta were less likely to develop severe COVID-19, and they got better faster.  The doctors gave the patients interferon beta by letting them breathe in a spray. The study was performed on 101 patients, which is not many.  The scientists gave some patients interferon beta and other patients a placebo, a harmless but empty spray.  The COVID-19 patients who received the real medicine were 79% less likely to develop a severe case.  As of July 2020, scientists are planning to test inhaled interferon beta in a larger study with 400 patients to see if it really does help.', 'SIR model Also, this model does not work well for every disease. It works well where people recover from a disease and become immune, such as measles. Not all infectious diseases follow this pattern. For instance, people infected with HIV never recover, and there is no vaccine, so there is no group of recovered people, only susceptible and infected people. There is also the case where people recover from a disease but do not become immune or lose their immunity over time. For instance, when people get the flu, they are generally only immune for a short time before they become susceptible again.', 'Chinese virus Severe acute respiratory syndrome coronavirus 2 (SARS-CoV-2), a positive-sense single-stranded RNA virus that is contagious in humans', 'COVID-19 Coronavirus disease 2019 (COVID-19) is an infectious disease caused by SARS coronavirus 2 (SARS-CoV-2), a virus closely related to the SARS virus.', 'COVID-19 Experts recommend testing people for COVID-19.  Some people may have SARS-CoV-2 in their bodies but not feel sick right away.  These people can spread the virus to others.', 'COVID-19 pandemic The COVID-19 pandemic, also called the coronavirus pandemic, was a world-wide pandemic of coronavirus disease 2019 (COVID-19). It is caused by severe acute respiratory syndrome coronavirus 2 (SARS-CoV-2).', \"Hepatitis C The medications that are normally used to treat Hepatitis C are called peginterferon and ribavirin. Between 50 and 80% of people who are treated (or 5 to 8 out of every 10) are cured. However, if a person's Hepatitis C has progressed (or gotten worse) so much that the person has cirrhosis or liver cancer, the person might need a liver transplant (they might need to have surgery where they are given another person's liver, or part of another person's liver). This makes it possible for the person to survive, but the Hepatitis C virus usually comes back after the transplant. There is no vaccine that works to prevent people from getting Hepatitis C.\", 'Sepsis Severe sepsis and septic shock are more severe forms of sepsis. With severe sepsis, one or more organs fail to work. Septic shock is when sepsis is combined with very low blood pressure.', 'Sepsis Today, the bacterial forms of sepsis can be treated with antibiotics. In addition, the fluids (blood) containing the germs have to be replaced. It might also be necessary to functionally replace the organs that failed. It is important to begin to treat the sepsis as quickly as possible, as each hour it is left untreated will raise the chances of death by 5% to 10%.']\n"
     ]
    }
   ],
   "source": [
    "print(question_set['Question_with_options'][1])\n",
    "print(\"-----\")\n",
    "print(question_set['relevant_docs_simple'][1])"
   ]
  }
 ],
 "metadata": {
  "kernelspec": {
   "display_name": "distractor_preference_env",
   "language": "python",
   "name": "python3"
  },
  "language_info": {
   "codemirror_mode": {
    "name": "ipython",
    "version": 3
   },
   "file_extension": ".py",
   "mimetype": "text/x-python",
   "name": "python",
   "nbconvert_exporter": "python",
   "pygments_lexer": "ipython3",
   "version": "3.13.1"
  }
 },
 "nbformat": 4,
 "nbformat_minor": 5
}
