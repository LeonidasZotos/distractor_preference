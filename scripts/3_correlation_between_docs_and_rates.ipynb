{
 "cells": [
  {
   "cell_type": "code",
   "execution_count": 13,
   "id": "d558e46b",
   "metadata": {},
   "outputs": [],
   "source": [
    "import sys\n",
    "import os\n",
    "from datasets import load_dataset\n",
    "from tqdm import tqdm\n",
    "import numpy as np\n",
    "from scipy.stats import pearsonr\n",
    "\n",
    "os.environ['HF_HOME'] = '/scratch/' + str(open('../tokens/HPC_ACCOUNT_ID.txt', 'r').read())\n",
    "cache_dir = '/scratch/' + str(open('../tokens/HPC_ACCOUNT_ID.txt', 'r').read()) + '/cache'"
   ]
  },
  {
   "cell_type": "code",
   "execution_count": 14,
   "id": "e5b2ee9d",
   "metadata": {},
   "outputs": [],
   "source": [
    "DATASET = \"LeoZotos/immu_full\""
   ]
  },
  {
   "cell_type": "code",
   "execution_count": 15,
   "id": "a5aa9a27",
   "metadata": {},
   "outputs": [],
   "source": [
    "hf_api_key = \"\"\n",
    "with open(\"../tokens/HF_TOKEN.txt\", \"r\") as f:\n",
    "    hf_api_key = f.read().strip()"
   ]
  },
  {
   "cell_type": "code",
   "execution_count": 16,
   "id": "ebbcd508",
   "metadata": {},
   "outputs": [],
   "source": [
    "data = load_dataset(DATASET, split='train', token=hf_api_key, cache_dir=cache_dir)"
   ]
  },
  {
   "cell_type": "code",
   "execution_count": 17,
   "id": "e40bcd5b",
   "metadata": {},
   "outputs": [
    {
     "name": "stdout",
     "output_type": "stream",
     "text": [
      "After filtering, dataset size: 338\n"
     ]
    }
   ],
   "source": [
    "data = data.filter(lambda x: x['Answer_A_Rate'] is not None and x['Answer_B_Rate'] is not None and x['Answer_C_Rate'] is not None and x['Answer_D_Rate'] is not None)\n",
    "data = data.filter(lambda x: x['Has_Content_Distractors'] == 2)\n",
    "\n",
    "print(\"After filtering, dataset size:\", len(data))"
   ]
  },
  {
   "cell_type": "code",
   "execution_count": null,
   "id": "dca9b466",
   "metadata": {},
   "outputs": [
    {
     "name": "stdout",
     "output_type": "stream",
     "text": [
      "Correlation between Answer_A rate and document length: 0.010, p-value: 0.852\n",
      "Correlation between Answer_B rate and document length: 0.038, p-value: 0.483\n",
      "Correlation between Answer_C rate and document length: -0.060, p-value: 0.275\n",
      "Correlation between Answer_D rate and document length: 0.008, p-value: 0.882\n"
     ]
    }
   ],
   "source": [
    "correlations_with_docs_len = {}\n",
    "\n",
    "for choice_name in [f\"Answer_{choice}\" for choice in ['A', 'B', 'C', 'D']]:\n",
    "    rates = data[f'{choice_name}_Rate']\n",
    "    doc_lengths = [len(sentence_list) for sentence_list in data[f'{choice_name}_Docs']]\n",
    "    \n",
    "    correlation, p = pearsonr(rates, doc_lengths)\n",
    "    \n",
    "    correlations_with_docs_len[choice_name] = (correlation, p)\n",
    "    print(f\"Correlation between {choice_name} rate and document length: {correlation:.3f}, p-value: {p:.3f}\")"
   ]
  }
 ],
 "metadata": {
  "kernelspec": {
   "display_name": "distractor_preference_env",
   "language": "python",
   "name": "python3"
  },
  "language_info": {
   "codemirror_mode": {
    "name": "ipython",
    "version": 3
   },
   "file_extension": ".py",
   "mimetype": "text/x-python",
   "name": "python",
   "nbconvert_exporter": "python",
   "pygments_lexer": "ipython3",
   "version": "3.13.1"
  }
 },
 "nbformat": 4,
 "nbformat_minor": 5
}
