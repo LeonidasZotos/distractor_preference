{
 "cells": [
  {
   "cell_type": "code",
   "execution_count": null,
   "id": "687fcc34",
   "metadata": {},
   "outputs": [],
   "source": [
    "from datasets import load_dataset\n",
    "import cohere"
   ]
  },
  {
   "cell_type": "code",
   "execution_count": null,
   "id": "f65376e0",
   "metadata": {},
   "outputs": [],
   "source": [
    "DATASET = \"LeoZotos/immu_full\""
   ]
  },
  {
   "cell_type": "code",
   "execution_count": null,
   "id": "8b9ca470",
   "metadata": {},
   "outputs": [],
   "source": [
    "cohere_api_key = \"\"\n",
    "hf_api_key = \"\"\n",
    "with open(\"../tokens/COHERE.txt\", \"r\") as f:\n",
    "    cohere_api_key = f.read().strip()\n",
    "with open(\"../tokens/HF_TOKEN.txt\", \"r\") as f:\n",
    "    hf_api_key = f.read().strip()\n",
    "co = cohere.Client(cohere_api_key)"
   ]
  },
  {
   "cell_type": "code",
   "execution_count": null,
   "id": "94340a22",
   "metadata": {},
   "outputs": [],
   "source": [
    "data = load_dataset(DATASET, split=\"train\", token=hf_api_key )"
   ]
  },
  {
   "cell_type": "code",
   "execution_count": null,
   "id": "dc4eff4c",
   "metadata": {},
   "outputs": [],
   "source": [
    "def get_embeddings(batch):\n",
    "    response = co.embed(\n",
    "        texts=batch['Question_With_Options'],\n",
    "        model='embed-multilingual-v3.0',\n",
    "        input_type='search_query' # it is the query, not the document\n",
    "    )\n",
    "    return {\"emb\": response.embeddings}\n",
    "\n",
    "data_with_embeddings = data.map(\n",
    "    get_embeddings,\n",
    "    batched=True,\n",
    "    batch_size=96 \n",
    ")\n",
    "\n",
    "# Now `data_with_embeddings` is a new Dataset object with the 'emb' column\n",
    "print(data_with_embeddings)"
   ]
  },
  {
   "cell_type": "code",
   "execution_count": null,
   "id": "08a70013",
   "metadata": {},
   "outputs": [],
   "source": [
    "print(data_with_embeddings[0]['emb'])"
   ]
  },
  {
   "cell_type": "code",
   "execution_count": null,
   "id": "575b7bbc",
   "metadata": {},
   "outputs": [],
   "source": [
    "data_with_embeddings.push_to_hub(\n",
    "    repo_id=DATASET,\n",
    "    commit_message=\"Add Cohere v3 embeddings to 'emb' column\",\n",
    "    token=hf_api_key,\n",
    "    private=True\n",
    ")"
   ]
  }
 ],
 "metadata": {
  "kernelspec": {
   "display_name": "distractor_preference_env",
   "language": "python",
   "name": "python3"
  },
  "language_info": {
   "codemirror_mode": {
    "name": "ipython",
    "version": 3
   },
   "file_extension": ".py",
   "mimetype": "text/x-python",
   "name": "python",
   "nbconvert_exporter": "python",
   "pygments_lexer": "ipython3",
   "version": "3.13.1"
  }
 },
 "nbformat": 4,
 "nbformat_minor": 5
}
