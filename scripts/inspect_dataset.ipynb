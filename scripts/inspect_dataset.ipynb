{
 "cells": [
  {
   "cell_type": "code",
   "execution_count": 21,
   "id": "687fcc34",
   "metadata": {},
   "outputs": [],
   "source": [
    "from datasets import load_dataset"
   ]
  },
  {
   "cell_type": "code",
   "execution_count": 22,
   "id": "156dd367",
   "metadata": {},
   "outputs": [],
   "source": [
    "DATASET = 'LeoZotos/bio_full'"
   ]
  },
  {
   "cell_type": "code",
   "execution_count": 23,
   "id": "8b9ca470",
   "metadata": {},
   "outputs": [],
   "source": [
    "hf_api_key = \"\"\n",
    "with open(\"../tokens/HF_TOKEN.txt\", \"r\") as f:\n",
    "    hf_api_key = f.read().strip()"
   ]
  },
  {
   "cell_type": "code",
   "execution_count": 24,
   "id": "94340a22",
   "metadata": {},
   "outputs": [
    {
     "name": "stderr",
     "output_type": "stream",
     "text": [
      "Generating train split: 100%|██████████| 819/819 [00:00<00:00, 6082.07 examples/s]\n"
     ]
    }
   ],
   "source": [
    "data = load_dataset(DATASET, split=\"train\", token=hf_api_key)"
   ]
  },
  {
   "cell_type": "code",
   "execution_count": 25,
   "id": "4a435740",
   "metadata": {},
   "outputs": [
    {
     "name": "stdout",
     "output_type": "stream",
     "text": [
      "Column names: ['id', 'Question', 'Answer_A', 'Answer_B', 'Answer_C', 'Answer_D', 'Answer_E', 'Answer_F', 'Answer_G', 'Answer_H', 'Answer_I', 'Answer_J', 'Answer_Key', 'Answer_Text', 'Question_With_Options', 'Answer_A_Rate', 'emb']\n"
     ]
    }
   ],
   "source": [
    "# print column names\n",
    "print(\"Column names:\", data.column_names)"
   ]
  }
 ],
 "metadata": {
  "kernelspec": {
   "display_name": "distractor_preference_env",
   "language": "python",
   "name": "python3"
  },
  "language_info": {
   "codemirror_mode": {
    "name": "ipython",
    "version": 3
   },
   "file_extension": ".py",
   "mimetype": "text/x-python",
   "name": "python",
   "nbconvert_exporter": "python",
   "pygments_lexer": "ipython3",
   "version": "3.13.1"
  }
 },
 "nbformat": 4,
 "nbformat_minor": 5
}
