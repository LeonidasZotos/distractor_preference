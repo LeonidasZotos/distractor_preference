{
 "cells": [
  {
   "cell_type": "code",
   "execution_count": null,
   "id": "687fcc34",
   "metadata": {},
   "outputs": [],
   "source": [
    "from datasets import load_dataset"
   ]
  },
  {
   "cell_type": "code",
   "execution_count": null,
   "id": "156dd367",
   "metadata": {},
   "outputs": [],
   "source": [
    "DATASET = 'LeoZotos/immu_full'"
   ]
  },
  {
   "cell_type": "code",
   "execution_count": null,
   "id": "8b9ca470",
   "metadata": {},
   "outputs": [],
   "source": [
    "hf_api_key = \"\"\n",
    "with open(\"../tokens/HF_TOKEN.txt\", \"r\") as f:\n",
    "    hf_api_key = f.read().strip()"
   ]
  },
  {
   "cell_type": "code",
   "execution_count": null,
   "id": "94340a22",
   "metadata": {},
   "outputs": [],
   "source": [
    "data = load_dataset(DATASET, split=\"train\", token=hf_api_key)"
   ]
  },
  {
   "cell_type": "code",
   "execution_count": null,
   "id": "4a435740",
   "metadata": {},
   "outputs": [],
   "source": [
    "# print column names with new lines\n",
    "print(\"Column names:\")\n",
    "for col in data.column_names:\n",
    "    print(col)\n",
    "\n",
    "# Print 1st row\n",
    "print(\"1st row:\", data[0])"
   ]
  }
 ],
 "metadata": {
  "kernelspec": {
   "display_name": "distractor_preference_env",
   "language": "python",
   "name": "python3"
  },
  "language_info": {
   "codemirror_mode": {
    "name": "ipython",
    "version": 3
   },
   "file_extension": ".py",
   "mimetype": "text/x-python",
   "name": "python",
   "nbconvert_exporter": "python",
   "pygments_lexer": "ipython3",
   "version": "3.13.1"
  }
 },
 "nbformat": 4,
 "nbformat_minor": 5
}
