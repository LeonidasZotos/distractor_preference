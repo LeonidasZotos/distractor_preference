{
 "cells": [
  {
   "cell_type": "code",
   "execution_count": 1,
   "id": "d558e46b",
   "metadata": {},
   "outputs": [
    {
     "name": "stderr",
     "output_type": "stream",
     "text": [
      "/home4/p285811/distractor_preference/distractor_preference_env/lib/python3.13/site-packages/tqdm/auto.py:21: TqdmWarning: IProgress not found. Please update jupyter and ipywidgets. See https://ipywidgets.readthedocs.io/en/stable/user_install.html\n",
      "  from .autonotebook import tqdm as notebook_tqdm\n"
     ]
    }
   ],
   "source": [
    "import sys\n",
    "import os\n",
    "from transformers import AutoModelForSeq2SeqLM, AutoTokenizer, AutoModelForCausalLM\n",
    "from sentence_transformers import SentenceTransformer\n",
    "from datasets import load_dataset\n",
    "import torch\n",
    "from tqdm import tqdm\n",
    "import numpy as np\n",
    "\n",
    "os.environ['HF_HOME'] = '/scratch/' + str(open('../tokens/HPC_ACCOUNT_ID.txt', 'r').read())\n",
    "cache_dir = '/scratch/' + str(open('../tokens/HPC_ACCOUNT_ID.txt', 'r').read()) + '/cache'"
   ]
  },
  {
   "cell_type": "code",
   "execution_count": 2,
   "id": "e4b2f25b",
   "metadata": {},
   "outputs": [],
   "source": [
    "DATASET = \"LeoZotos/bio_full\""
   ]
  },
  {
   "cell_type": "code",
   "execution_count": 3,
   "id": "a5aa9a27",
   "metadata": {},
   "outputs": [],
   "source": [
    "hf_api_key = \"\"\n",
    "with open(\"../tokens/HF_TOKEN.txt\", \"r\") as f:\n",
    "    hf_api_key = f.read().strip()\n",
    "device = torch.device('cuda' if torch.cuda.is_available() else 'cpu')"
   ]
  },
  {
   "cell_type": "code",
   "execution_count": 4,
   "id": "798bb379",
   "metadata": {},
   "outputs": [],
   "source": [
    "sentence_bert_model = SentenceTransformer('sentence-transformers/all-MiniLM-L6-v2')"
   ]
  },
  {
   "cell_type": "code",
   "execution_count": 5,
   "id": "ebbcd508",
   "metadata": {},
   "outputs": [
    {
     "name": "stderr",
     "output_type": "stream",
     "text": [
      "Generating train split: 100%|██████████| 778/778 [00:00<00:00, 7290.53 examples/s]\n"
     ]
    }
   ],
   "source": [
    "data = load_dataset(DATASET, split='train', token=hf_api_key, cache_dir=cache_dir)"
   ]
  },
  {
   "cell_type": "code",
   "execution_count": 11,
   "id": "7b6aaf45",
   "metadata": {},
   "outputs": [],
   "source": [
    "def print_similarities(similarities, sentences1, sentences2):\n",
    "    for idx_i, sentence1 in enumerate(sentences1):\n",
    "        print(sentence1)\n",
    "        for idx_j, sentence2 in enumerate(sentences2):\n",
    "            print(f\" - {sentence2: <30}: {similarities[idx_i][idx_j]:.4f}\")\n",
    "\n",
    "\n",
    "def classify_docs_per_distractor(row, sentence_bert_model):\n",
    "    docs_per_choice = {}\n",
    "    for key in ['Answer_A', 'Answer_B', 'Answer_C', 'Answer_D']:\n",
    "        if row[key] != \"\":\n",
    "                docs_per_choice[key + '_Docs'] = []\n",
    "    choices_keys = [key[:-5] for key in docs_per_choice.keys()]\n",
    "    choices_content = [row[key] for key in choices_keys if row[key] != \"\"]\n",
    "    embeddings_choices = sentence_bert_model.encode(choices_content)\n",
    "    embeddings_docs = sentence_bert_model.encode(row['Relevant_Docs_Simple'])\n",
    "    similarities = sentence_bert_model.similarity(embeddings_choices, embeddings_docs)\n",
    "\n",
    "    # might be useful for debugging\n",
    "    # print_similarities(similarities, choices_content, row['relevant_docs_simple']) \n",
    "    \n",
    "    # We now add each doc to the choice with the highest similarity\n",
    "    for i, doc in enumerate(row['Relevant_Docs_Simple']):\n",
    "        max_sim_index = np.argmax(similarities[:, i])\n",
    "        max_choice = list(docs_per_choice.keys())[max_sim_index]\n",
    "        docs_per_choice[max_choice].append(doc)\n",
    "    \n",
    "    return docs_per_choice\n"
   ]
  },
  {
   "cell_type": "code",
   "execution_count": 12,
   "id": "b75f44ce",
   "metadata": {},
   "outputs": [
    {
     "name": "stderr",
     "output_type": "stream",
     "text": [
      "100%|██████████| 778/778 [00:12<00:00, 63.19it/s]\n"
     ]
    }
   ],
   "source": [
    "column_names = [f\"Answer_{choice}_Docs\" for choice in ['A', 'B', 'C', 'D']]\n",
    "docs_by_choice = {name: [] for name in column_names}\n",
    "\n",
    "for row in tqdm(data):\n",
    "    docs_per_choice_for_row = classify_docs_per_distractor(row, sentence_bert_model)\n",
    "    for name in column_names:\n",
    "        docs_by_choice[name].append(docs_per_choice_for_row.get(name, []))\n",
    "        \n",
    "if column_names[0] in data.column_names:\n",
    "    data = data.remove_columns(column_names)\n",
    "    \n",
    "for name, column_data in docs_by_choice.items():\n",
    "    data = data.add_column(name, column_data)"
   ]
  },
  {
   "cell_type": "code",
   "execution_count": 13,
   "id": "4c30d5a4",
   "metadata": {},
   "outputs": [
    {
     "name": "stdout",
     "output_type": "stream",
     "text": [
      "what is one of the contradictions in \"paradoxical\" sleep?\n",
      "a) the brain is very active, while many of the muscles are deeply relaxed\n",
      "b) subcortical structures are very active, while the cerebral cortex is inactive\n",
      "c) the frequency of the brain waves is low, while the amplitude is high\n",
      "d) postural muscles are tense, while heart rate and breathing rate are very low\n",
      " : \n",
      " A: ['Sleep Stage 4: The dreaming stage in which brain waves are more vigorous with rapid eye movement. Awakenings are more common in REM (Rapid Eye Movement) sleep as opposed to NREM.', 'Sleep paralysis Little is known about the physiology of sleep paralysis. However, some have suggested that it may be linked to post-synaptic (neurons sending signals to other neurons) inhibition (restraint) of nerves in the pons (back) region of the brain. In particular, low levels of melatonin may stop the depolarization current in the nerves, which stops stimulation of the muscles.', 'Sleep Sleep is a state of resting, which happens in animals, including humans. During deep sleep, most of the muscles that animals can otherwise control are not active, but regain the energy for the next time they wake up. Animals during sleep are usually in an unconscious, relaxed state. Like most animals, healthy sleep in humans takes place at night. Asleep describes the condition where animals are in the process of sleeping. During this time, they will not react as quickly (if at all) as they would if they were awake. They can, however, wake up from sleep more easily than from hibernation or coma. All mammals, birds, many reptiles, amphibians and fish have a sleep cycle. In humans, other mammals, and most other animals that were studied, regular sleep is essential for survival.', 'Sleep Sleep apnea which is due to the lack of breathing for several seconds which results in the brain awakening and forcing a respiratory effect to breathe harder. As a result of the multiple occurrences during the night, the body cannot go back to sleep, leading to fatigue.', 'Awake Being awake is the opposite of being asleep. When you are asleep most responses to your surroundings are turned off, and you are unconscious of what is happening around you.', 'Thalamus The thalamus also plays an important role in regulating states of sleep and wakefulness. Thalamic nuclei have strong connections with the cerebral cortex. These circuits are believed to be involved with consciousness. The thalamus plays a major role in regulating arousal, the level of awareness, and activity. Damage to the thalamus can lead to permanent coma.', \"Parasympathetic nervous system However, in a healthy person, the brain realizes when the parasympathetic nervous system's effects are getting too strong.  For example, the brain may realize that the person is breathing too slowly, or that their heart rate is too low.  The brain reacts by making the sympathetic nervous system kick in.  Because the sympathetic nervous system has the opposite effects, it will make the person breathe faster and raise their heart rate.  These two systems have to balance each other constantly for a person to stay healthy.\", 'Narcolepsy Hallucinations, sleep paralysis, and automatic behaviour can also occur in people who are not narcoleptics. This usually happens when people are very tired, and have not slept for a long time.', 'Thalamus It relays sensory and motor signals to the cerebral cortex, and regulates consciousness, sleep, and alertness.', 'Sleep disorder Dysomnia - these are sleep disorders which cause too much or too little sleep. Some of these are caused within the body while some are externally caused. For example, insomnia and narcolepsy are two of the dysomnias.', \"Rapid eye movement sleep Lucid dreams are reported far more often in REM sleep. The mental events which occur during REM usually have dream 'hallmarks' including narrative structure, convincingness (like waking life), and instinctual themes.\", 'Sleep paralysis When people are dreaming, their muscles do not move, even if in their dream they are moving. This is a natural process which prevents that people actually perform the movements they do in their sleep. In general, people are not aware of this inability to move, as it usually stops as soon as they wake up. People suffering from sleep paralysis wake up and find that they are unable to move. This is because the paralysis has not stopped. Usually it lasts for only a few minutes, and people have said they feel a \"presence\" or \"ghost\" during it.', 'Rapid eye movement sleep The other category, where this movement of the eyes does not happen, is called NREM-sleep (Non-REM sleep). Usually, dreams do not occur during this time. There are three or four stages of NREM-sleep. Stage I is just barely sleeping, or dozing. Stage II is also light sleep. Normally, in adult humans, about half of the time spent asleep is spent in light sleep. Stages III and IV are called deep sleep. Deep sleep is necessary for growth and healing. It can be quite difficult to awaken someone who is in stage III or stage IV sleep. Sometimes stages III and IV are combined and called stage III.', 'Dream The discovery of REM (rapid eye movement) and non-REM sleep has been important. Researchers have done many studies on this. Subjects have been woken up in both stages and asked what they were thinking about. It is clear that the reports from non-REM stages were different from REM stages. In particular, dreams occur mostly when the brain is in the REM state. There is also some relationship between dreaming and daydreams. Both seem to occur in a cycle of 90110 minutes.', 'Narcolepsy Narcolepsy is a sleep disorder. It happens when the nervous system does not work properly. People with narcolepsy tend to fall asleep during the daytime, even if they do not want to. Very often, they do not sleep well at night, and during the day they fall asleep uncontrollably.  There are two different forms. The classical (more common) form is the one with muscle failure (called cataplexy). There is also a less common form without cataplexy.', 'Dream If sleep is prevented, people suffer and get worse at every kind of waking activity. From this it is clear that one important function of sleep is to maintain normal brain activity during awake time. Somehow, during sleep the brain gets restored to its normal functioning. Sleep is, so far as is known, universal amongst vertebrates. That also argues for its great importance. However, it is not known whether dreaming supports this repair function of sleep, or whether it is something which just happens.', 'Sleep apnea Sleep apnea occurs when the muscles in the back of the throat relax too much to allow normal breathing. These muscles support structures including the back of the roof of the mouth (soft palate), the triangular piece of tissue hanging from the soft palate (uvula), the tonsils, and the tongue.', 'Sleep disorder Sleep paralysis: temporary paralysis of the body shortly before or after sleep.  Sleep paralysis may be accompanied by hallucinations of sight, hearing or touch. It is quite common.'] \n",
      " B: [] \n",
      " C: ['Sleep Stages 3: Deep NREM sleep which involves delta waves or slow waves. It is difficult to wake one up in the course of this stage as they are in deep sleep. Common disorders that occur during this stage are sleepwalking and talking.'] \n",
      " D: ['Sleep disorder Sleepwalking: one of the parasomnias, \"Sleepwalking — also known as somnambulism — involves getting up and walking around while in a state of sleep.\"']\n"
     ]
    }
   ],
   "source": [
    "# Inspect an instance manually to see if it makes sense\n",
    "id = 22\n",
    "print(data[id]['Question_With_Options'], \":\", \"\\n A:\", data[id]['Answer_A_Docs'], \"\\n B:\", data[id]['Answer_B_Docs'], \"\\n C:\", data[id]['Answer_C_Docs'], \"\\n D:\", data[id]['Answer_D_Docs'])"
   ]
  },
  {
   "cell_type": "code",
   "execution_count": 14,
   "id": "ac400635",
   "metadata": {},
   "outputs": [
    {
     "name": "stderr",
     "output_type": "stream",
     "text": [
      "Creating parquet from Arrow format: 100%|██████████| 1/1 [00:00<00:00, 19.73ba/s]\n",
      "Uploading the dataset shards: 100%|██████████| 1/1 [00:01<00:00,  1.76s/it]\n"
     ]
    },
    {
     "data": {
      "text/plain": [
       "CommitInfo(commit_url='https://huggingface.co/datasets/LeoZotos/bio_full/commit/00d86c049741d0643a15a88b6bf8c2d0001381f8', commit_message='Classified docs per choice', commit_description='', oid='00d86c049741d0643a15a88b6bf8c2d0001381f8', pr_url=None, repo_url=RepoUrl('https://huggingface.co/datasets/LeoZotos/bio_full', endpoint='https://huggingface.co', repo_type='dataset', repo_id='LeoZotos/bio_full'), pr_revision=None, pr_num=None)"
      ]
     },
     "execution_count": 14,
     "metadata": {},
     "output_type": "execute_result"
    }
   ],
   "source": [
    "# upload to hf\n",
    "data.push_to_hub(\n",
    "    repo_id=DATASET,\n",
    "    commit_message=\"Classified docs per choice\",\n",
    "    token=hf_api_key,\n",
    "    private=True\n",
    ")"
   ]
  }
 ],
 "metadata": {
  "kernelspec": {
   "display_name": "distractor_preference_env",
   "language": "python",
   "name": "python3"
  },
  "language_info": {
   "codemirror_mode": {
    "name": "ipython",
    "version": 3
   },
   "file_extension": ".py",
   "mimetype": "text/x-python",
   "name": "python",
   "nbconvert_exporter": "python",
   "pygments_lexer": "ipython3",
   "version": "3.13.1"
  }
 },
 "nbformat": 4,
 "nbformat_minor": 5
}
