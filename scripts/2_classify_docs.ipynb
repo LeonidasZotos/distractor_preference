{
 "cells": [
  {
   "cell_type": "code",
   "execution_count": null,
   "id": "d558e46b",
   "metadata": {},
   "outputs": [],
   "source": [
    "import sys\n",
    "import os\n",
    "from transformers import AutoModelForSeq2SeqLM, AutoTokenizer, AutoModelForCausalLM\n",
    "from datasets import load_dataset\n",
    "import torch\n",
    "from tqdm import tqdm\n",
    "import numpy as np\n",
    "\n",
    "os.environ['HF_HOME'] = '/scratch/' + str(open('../tokens/HPC_ACCOUNT_ID.txt', 'r').read())\n",
    "cache_dir = '/scratch/' + str(open('../tokens/HPC_ACCOUNT_ID.txt', 'r').read()) + '/cache'"
   ]
  },
  {
   "cell_type": "code",
   "execution_count": null,
   "id": "a5aa9a27",
   "metadata": {},
   "outputs": [],
   "source": [
    "hf_api_key = \"\"\n",
    "with open(\"../tokens/HF_TOKEN.txt\", \"r\") as f:\n",
    "    hf_api_key = f.read().strip()\n",
    "device = torch.device('cuda' if torch.cuda.is_available() else 'cpu')"
   ]
  },
  {
   "cell_type": "code",
   "execution_count": null,
   "id": "7b6aaf45",
   "metadata": {},
   "outputs": [],
   "source": [
    "def classify_docs_per_distractor(row, model, tokenizer, device):\n",
    "    \"\"\"\n",
    "    Classify documents for a given distractor.\n",
    "    \"\"\"\n",
    "    "
   ]
  },
  {
   "cell_type": "code",
   "execution_count": null,
   "id": "b75f44ce",
   "metadata": {},
   "outputs": [],
   "source": [
    "data = load_dataset(\"LeoZotos/\" + \"immu\" + \"_full\", split='train', token = hf_api_key, cache_dir=cache_dir)\n",
    "\n",
    "correct_answer_docs = []\n",
    "distractor_1_docs = []\n",
    "distractor_2_docs = []\n",
    "distractor_3_docs = []\n",
    "    \n",
    "\n",
    "question_set.add_column(\"relevant_docs\" + \"_\" + 'simple', relevant_docs)\n"
   ]
  }
 ],
 "metadata": {
  "language_info": {
   "name": "python"
  }
 },
 "nbformat": 4,
 "nbformat_minor": 5
}
